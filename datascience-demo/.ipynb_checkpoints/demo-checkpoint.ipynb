{
 "cells": [
  {
   "cell_type": "markdown",
   "metadata": {},
   "source": [
    "# `datascience` Library Demo Notebook\n",
    "\n",
    "_Notebook created by Chris Pyles_\n",
    "\n",
    "This notebook is intended to give you some basic information on manipulating rectangular data using the `datascience` library. The `datascience` library is a module for Python developed at UC Berkeley and which is used in the course Data 8: Foundations of Data Science. This notebook covers basic table operations using this library.\n",
    "\n",
    "<!--\n",
    "\n",
    "**Table of Contents**\n",
    "1. [Dependences](#Dependencies)\n",
    "2. [Loading Data](#Loading-Data)\n",
    "3. [Moving Between `pandas` and `datascience`](#Moving-Between-pandas-and-datascience)\n",
    "4. [Rows and Columns](#Rows-and-Columns)\n",
    "5. [Accessing Vaues](#Accessing-Values)\n",
    "6. [Missing Values](#Missing-Values)\n",
    "7. [Descriptive Statistics](#Descriptive-Statistics)\n",
    "8. [Grouping](#Grouping)\n",
    "9. [Manipulating Values](#Manipulating-Values)\n",
    "10. [Exporting Figures](#Exporting-Figures)\n",
    "11. [Exporting Data](#Exporting-Data)\n",
    "12. [Conclusion](#Conclusion)\n",
    "\n",
    "-->\n",
    "\n",
    "### Dependencies\n",
    "\n",
    "In the cell below we load the dependencies for this notebook."
   ]
  },
  {
   "cell_type": "code",
   "execution_count": 1,
   "metadata": {
    "scrolled": true
   },
   "outputs": [],
   "source": [
    "from datascience import *\n",
    "import pandas as pd\n",
    "import numpy as np\n",
    "import datetime as dt\n",
    "import matplotlib.pyplot as plt\n",
    "%matplotlib inline\n",
    "plt.style.use('fivethirtyeight')\n",
    "from IPython.display import display"
   ]
  },
  {
   "cell_type": "markdown",
   "metadata": {},
   "source": [
    "### Loading Data\n",
    "\n",
    "The method that `datascience` provides for reading in data defaults to reading CSV files. The function, `Table.read_table()`, takes as its argument a relative path to the data file. In the cell below, we load the datasets we will be using for this demo."
   ]
  },
  {
   "cell_type": "code",
   "execution_count": 2,
   "metadata": {
    "scrolled": true
   },
   "outputs": [
    {
     "data": {
      "text/html": [
       "<table border=\"1\" class=\"dataframe\">\n",
       "    <thead>\n",
       "        <tr>\n",
       "            <th>Trip ID</th> <th>Duration</th> <th>Start Date</th> <th>Start Station</th> <th>Start Terminal</th> <th>End Date</th> <th>End Station</th> <th>End Terminal</th> <th>Bike #</th> <th>Subscriber Type</th> <th>Zip Code</th>\n",
       "        </tr>\n",
       "    </thead>\n",
       "    <tbody>\n",
       "        <tr>\n",
       "            <td>608033 </td> <td>280     </td> <td>1/16/2015 20:22 </td> <td>Embarcadero at Bryant   </td> <td>54            </td> <td>1/16/2015 20:27 </td> <td>Steuart at Market                       </td> <td>74          </td> <td>362   </td> <td>Subscriber     </td> <td>94705   </td>\n",
       "        </tr>\n",
       "        <tr>\n",
       "            <td>661342 </td> <td>598     </td> <td>2/27/2015 15:58 </td> <td>South Van Ness at Market</td> <td>66            </td> <td>2/27/2015 16:08 </td> <td>San Francisco Caltrain (Townsend at 4th)</td> <td>70          </td> <td>416   </td> <td>Subscriber     </td> <td>95119   </td>\n",
       "        </tr>\n",
       "        <tr>\n",
       "            <td>571988 </td> <td>639     </td> <td>12/9/2014 17:12 </td> <td>Market at Sansome       </td> <td>77            </td> <td>12/9/2014 17:23 </td> <td>San Francisco Caltrain (Townsend at 4th)</td> <td>70          </td> <td>484   </td> <td>Subscriber     </td> <td>94010   </td>\n",
       "        </tr>\n",
       "        <tr>\n",
       "            <td>875617 </td> <td>725     </td> <td>8/4/2015 17:34  </td> <td>South Van Ness at Market</td> <td>66            </td> <td>8/4/2015 17:46  </td> <td>Beale at Market                         </td> <td>56          </td> <td>569   </td> <td>Subscriber     </td> <td>9611    </td>\n",
       "        </tr>\n",
       "        <tr>\n",
       "            <td>587393 </td> <td>759     </td> <td>12/29/2014 16:10</td> <td>Townsend at 7th         </td> <td>65            </td> <td>12/29/2014 16:23</td> <td>Embarcadero at Bryant                   </td> <td>54          </td> <td>629   </td> <td>Subscriber     </td> <td>94105   </td>\n",
       "        </tr>\n",
       "    </tbody>\n",
       "</table>\n",
       "<p>... (9995 rows omitted)</p>"
      ],
      "text/plain": [
       "<IPython.core.display.HTML object>"
      ]
     },
     "metadata": {},
     "output_type": "display_data"
    },
    {
     "data": {
      "text/html": [
       "<table border=\"1\" class=\"dataframe\">\n",
       "    <thead>\n",
       "        <tr>\n",
       "            <th>station_id</th> <th>name</th> <th>lat</th> <th>long</th> <th>dockcount</th> <th>landmark</th> <th>installation</th>\n",
       "        </tr>\n",
       "    </thead>\n",
       "    <tbody>\n",
       "        <tr>\n",
       "            <td>2         </td> <td>San Jose Diridon Caltrain Station</td> <td>37.3297</td> <td>-121.902</td> <td>27       </td> <td>San Jose</td> <td>8/6/2013    </td>\n",
       "        </tr>\n",
       "        <tr>\n",
       "            <td>3         </td> <td>San Jose Civic Center            </td> <td>37.3307</td> <td>-121.889</td> <td>15       </td> <td>San Jose</td> <td>8/5/2013    </td>\n",
       "        </tr>\n",
       "        <tr>\n",
       "            <td>4         </td> <td>Santa Clara at Almaden           </td> <td>37.334 </td> <td>-121.895</td> <td>11       </td> <td>San Jose</td> <td>8/6/2013    </td>\n",
       "        </tr>\n",
       "        <tr>\n",
       "            <td>5         </td> <td>Adobe on Almaden                 </td> <td>37.3314</td> <td>-121.893</td> <td>19       </td> <td>San Jose</td> <td>8/5/2013    </td>\n",
       "        </tr>\n",
       "        <tr>\n",
       "            <td>6         </td> <td>San Pedro Square                 </td> <td>37.3367</td> <td>-121.894</td> <td>15       </td> <td>San Jose</td> <td>8/7/2013    </td>\n",
       "        </tr>\n",
       "    </tbody>\n",
       "</table>\n",
       "<p>... (65 rows omitted)</p>"
      ],
      "text/plain": [
       "<IPython.core.display.HTML object>"
      ]
     },
     "metadata": {},
     "output_type": "display_data"
    }
   ],
   "source": [
    "trips = Table.read_table('data/trips.csv')\n",
    "stations = Table.read_table('data/stations.csv')\n",
    "trips.show(5)\n",
    "stations.show(5)"
   ]
  },
  {
   "cell_type": "markdown",
   "metadata": {},
   "source": [
    "We use the `Table.show()` method above to display the first 5 lines of each table. This method defaults to all rows, so calling `trips.show()` would have displayed all 354,152 rows of that table."
   ]
  },
  {
   "cell_type": "markdown",
   "metadata": {},
   "source": [
    "If you have files that use other delimeters, you can pass the `sep` argument of `pd.read_csv()` to `Table.read_table()` and the file will be read in correctly."
   ]
  },
  {
   "cell_type": "code",
   "execution_count": 3,
   "metadata": {
    "scrolled": true
   },
   "outputs": [
    {
     "data": {
      "text/html": [
       "<table border=\"1\" class=\"dataframe\">\n",
       "    <thead>\n",
       "        <tr>\n",
       "            <th>Trip ID</th> <th>Duration</th> <th>Start Date</th> <th>Start Station</th> <th>Start Terminal</th> <th>End Date</th> <th>End Station</th> <th>End Terminal</th> <th>Bike #</th> <th>Subscriber Type</th> <th>Zip Code</th> <th>Duration^2</th>\n",
       "        </tr>\n",
       "    </thead>\n",
       "    <tbody>\n",
       "        <tr>\n",
       "            <td>608033 </td> <td>280     </td> <td>1/16/2015 20:22 </td> <td>Embarcadero at Bryant   </td> <td>54            </td> <td>1/16/2015 20:27 </td> <td>Steuart at Market                       </td> <td>74          </td> <td>362   </td> <td>Subscriber     </td> <td>94705   </td> <td>78400     </td>\n",
       "        </tr>\n",
       "        <tr>\n",
       "            <td>661342 </td> <td>598     </td> <td>2/27/2015 15:58 </td> <td>South Van Ness at Market</td> <td>66            </td> <td>2/27/2015 16:08 </td> <td>San Francisco Caltrain (Townsend at 4th)</td> <td>70          </td> <td>416   </td> <td>Subscriber     </td> <td>95119   </td> <td>357604    </td>\n",
       "        </tr>\n",
       "        <tr>\n",
       "            <td>571988 </td> <td>639     </td> <td>12/9/2014 17:12 </td> <td>Market at Sansome       </td> <td>77            </td> <td>12/9/2014 17:23 </td> <td>San Francisco Caltrain (Townsend at 4th)</td> <td>70          </td> <td>484   </td> <td>Subscriber     </td> <td>94010   </td> <td>408321    </td>\n",
       "        </tr>\n",
       "        <tr>\n",
       "            <td>875617 </td> <td>725     </td> <td>8/4/2015 17:34  </td> <td>South Van Ness at Market</td> <td>66            </td> <td>8/4/2015 17:46  </td> <td>Beale at Market                         </td> <td>56          </td> <td>569   </td> <td>Subscriber     </td> <td>9611    </td> <td>525625    </td>\n",
       "        </tr>\n",
       "        <tr>\n",
       "            <td>587393 </td> <td>759     </td> <td>12/29/2014 16:10</td> <td>Townsend at 7th         </td> <td>65            </td> <td>12/29/2014 16:23</td> <td>Embarcadero at Bryant                   </td> <td>54          </td> <td>629   </td> <td>Subscriber     </td> <td>94105   </td> <td>576081    </td>\n",
       "        </tr>\n",
       "    </tbody>\n",
       "</table>\n",
       "<p>... (9995 rows omitted)</p>"
      ],
      "text/plain": [
       "<IPython.core.display.HTML object>"
      ]
     },
     "metadata": {},
     "output_type": "display_data"
    }
   ],
   "source": [
    "Table.read_table(\"data/trips.tsv\", sep=\"\\t\").show(5)"
   ]
  },
  {
   "cell_type": "markdown",
   "metadata": {},
   "source": [
    "If you have data formatted in ways other than delimited files, these need to be loaded into `pandas` first before being transferred to `datascience`. An example call is given below.\n",
    "\n",
    "```python\n",
    "# load data into pandas\n",
    "trips_df = pd.read_json(\"data/trips.json\")\n",
    "\n",
    "# transfer to datascience\n",
    "trips_tbl = Table.from_df(trips_df)\n",
    "```"
   ]
  },
  {
   "cell_type": "markdown",
   "metadata": {},
   "source": [
    "### Moving Between `pandas` and `datascience`\n",
    "\n",
    "As noted above, it is possible to transfer your data between `pandas` and `datascience`. The functions to do this are provided in the `datascience` library; `Table.from_df()` takes a DataFrame and returns a Table and `Table.to_df()` turns the Table into a DataFrame.\n",
    "\n",
    "```python\n",
    "# pandas to datascience\n",
    "tbl = Table.from_df(df)\n",
    "\n",
    "# datascience to pandas\n",
    "df = tbl.to_df()\n",
    "```"
   ]
  },
  {
   "cell_type": "markdown",
   "metadata": {},
   "source": [
    "### Rows and Columns \n",
    "\n",
    "To get row and column counts, the `datascience` library provides the `num_rows` and `num_columns` attributes, which are self-explanatory."
   ]
  },
  {
   "cell_type": "code",
   "execution_count": 4,
   "metadata": {
    "scrolled": true
   },
   "outputs": [
    {
     "data": {
      "text/plain": [
       "(10000, 11)"
      ]
     },
     "execution_count": 4,
     "metadata": {},
     "output_type": "execute_result"
    }
   ],
   "source": [
    "trips.num_rows, trips.num_columns"
   ]
  },
  {
   "cell_type": "markdown",
   "metadata": {},
   "source": [
    "To access the labels of the columns, `datascience` has `labels`, which is a tuple containing the column labels in numerical index order."
   ]
  },
  {
   "cell_type": "code",
   "execution_count": 5,
   "metadata": {
    "scrolled": true
   },
   "outputs": [
    {
     "data": {
      "text/plain": [
       "('Trip ID',\n",
       " 'Duration',\n",
       " 'Start Date',\n",
       " 'Start Station',\n",
       " 'Start Terminal',\n",
       " 'End Date',\n",
       " 'End Station',\n",
       " 'End Terminal',\n",
       " 'Bike #',\n",
       " 'Subscriber Type',\n",
       " 'Zip Code')"
      ]
     },
     "execution_count": 5,
     "metadata": {},
     "output_type": "execute_result"
    }
   ],
   "source": [
    "trips.labels"
   ]
  },
  {
   "cell_type": "markdown",
   "metadata": {},
   "source": [
    "To add columns to a table, you pass a single label and set of values to `.with_column()` or a list of labels and pairs to `.with_columns()` (both shown below). **These functions do not edit the original table, so these modifications can only be saved by assigning them to the name of the table or a new variable name.**"
   ]
  },
  {
   "cell_type": "code",
   "execution_count": 6,
   "metadata": {
    "scrolled": true
   },
   "outputs": [
    {
     "data": {
      "text/html": [
       "<table border=\"1\" class=\"dataframe\">\n",
       "    <thead>\n",
       "        <tr>\n",
       "            <th>Trip ID</th> <th>Duration</th> <th>Start Date</th> <th>Start Station</th> <th>Start Terminal</th> <th>End Date</th> <th>End Station</th> <th>End Terminal</th> <th>Bike #</th> <th>Subscriber Type</th> <th>Zip Code</th> <th>Random Numbers</th>\n",
       "        </tr>\n",
       "    </thead>\n",
       "    <tbody>\n",
       "        <tr>\n",
       "            <td>608033 </td> <td>280     </td> <td>1/16/2015 20:22 </td> <td>Embarcadero at Bryant            </td> <td>54            </td> <td>1/16/2015 20:27 </td> <td>Steuart at Market                       </td> <td>74          </td> <td>362   </td> <td>Subscriber     </td> <td>94705   </td> <td>0.0526983     </td>\n",
       "        </tr>\n",
       "        <tr>\n",
       "            <td>661342 </td> <td>598     </td> <td>2/27/2015 15:58 </td> <td>South Van Ness at Market         </td> <td>66            </td> <td>2/27/2015 16:08 </td> <td>San Francisco Caltrain (Townsend at 4th)</td> <td>70          </td> <td>416   </td> <td>Subscriber     </td> <td>95119   </td> <td>7.54488       </td>\n",
       "        </tr>\n",
       "        <tr>\n",
       "            <td>571988 </td> <td>639     </td> <td>12/9/2014 17:12 </td> <td>Market at Sansome                </td> <td>77            </td> <td>12/9/2014 17:23 </td> <td>San Francisco Caltrain (Townsend at 4th)</td> <td>70          </td> <td>484   </td> <td>Subscriber     </td> <td>94010   </td> <td>2.69752       </td>\n",
       "        </tr>\n",
       "        <tr>\n",
       "            <td>875617 </td> <td>725     </td> <td>8/4/2015 17:34  </td> <td>South Van Ness at Market         </td> <td>66            </td> <td>8/4/2015 17:46  </td> <td>Beale at Market                         </td> <td>56          </td> <td>569   </td> <td>Subscriber     </td> <td>9611    </td> <td>7.87205       </td>\n",
       "        </tr>\n",
       "        <tr>\n",
       "            <td>587393 </td> <td>759     </td> <td>12/29/2014 16:10</td> <td>Townsend at 7th                  </td> <td>65            </td> <td>12/29/2014 16:23</td> <td>Embarcadero at Bryant                   </td> <td>54          </td> <td>629   </td> <td>Subscriber     </td> <td>94105   </td> <td>4.07006       </td>\n",
       "        </tr>\n",
       "        <tr>\n",
       "            <td>721469 </td> <td>1774    </td> <td>4/11/2015 14:07 </td> <td>Arena Green / SAP Center         </td> <td>14            </td> <td>4/11/2015 14:37 </td> <td>Santa Clara County Civic Center         </td> <td>80          </td> <td>95    </td> <td>Customer       </td> <td>95112   </td> <td>4.50254       </td>\n",
       "        </tr>\n",
       "        <tr>\n",
       "            <td>467223 </td> <td>259     </td> <td>9/24/2014 8:36  </td> <td>San Antonio Caltrain Station     </td> <td>29            </td> <td>9/24/2014 8:40  </td> <td>San Antonio Shopping Center             </td> <td>31          </td> <td>183   </td> <td>Subscriber     </td> <td>94133   </td> <td>3.28847       </td>\n",
       "        </tr>\n",
       "        <tr>\n",
       "            <td>898461 </td> <td>413     </td> <td>8/20/2015 13:34 </td> <td>Market at 4th                    </td> <td>76            </td> <td>8/20/2015 13:41 </td> <td>Post at Kearny                          </td> <td>47          </td> <td>313   </td> <td>Customer       </td> <td>14222   </td> <td>1.92876       </td>\n",
       "        </tr>\n",
       "        <tr>\n",
       "            <td>552253 </td> <td>442     </td> <td>11/20/2014 10:50</td> <td>2nd at Folsom                    </td> <td>62            </td> <td>11/20/2014 10:57</td> <td>San Francisco Caltrain 2 (330 Townsend) </td> <td>69          </td> <td>353   </td> <td>Subscriber     </td> <td>94107   </td> <td>3.37995       </td>\n",
       "        </tr>\n",
       "        <tr>\n",
       "            <td>667949 </td> <td>568     </td> <td>3/4/2015 17:31  </td> <td>San Jose Diridon Caltrain Station</td> <td>2             </td> <td>3/4/2015 17:40  </td> <td>Paseo de San Antonio                    </td> <td>7           </td> <td>691   </td> <td>Subscriber     </td> <td>95112   </td> <td>8.31582       </td>\n",
       "        </tr>\n",
       "    </tbody>\n",
       "</table>\n",
       "<p>... (9990 rows omitted)</p>"
      ],
      "text/plain": [
       "Trip ID | Duration | Start Date       | Start Station                     | Start Terminal | End Date         | End Station                              | End Terminal | Bike # | Subscriber Type | Zip Code | Random Numbers\n",
       "608033  | 280      | 1/16/2015 20:22  | Embarcadero at Bryant             | 54             | 1/16/2015 20:27  | Steuart at Market                        | 74           | 362    | Subscriber      | 94705    | 0.0526983\n",
       "661342  | 598      | 2/27/2015 15:58  | South Van Ness at Market          | 66             | 2/27/2015 16:08  | San Francisco Caltrain (Townsend at 4th) | 70           | 416    | Subscriber      | 95119    | 7.54488\n",
       "571988  | 639      | 12/9/2014 17:12  | Market at Sansome                 | 77             | 12/9/2014 17:23  | San Francisco Caltrain (Townsend at 4th) | 70           | 484    | Subscriber      | 94010    | 2.69752\n",
       "875617  | 725      | 8/4/2015 17:34   | South Van Ness at Market          | 66             | 8/4/2015 17:46   | Beale at Market                          | 56           | 569    | Subscriber      | 9611     | 7.87205\n",
       "587393  | 759      | 12/29/2014 16:10 | Townsend at 7th                   | 65             | 12/29/2014 16:23 | Embarcadero at Bryant                    | 54           | 629    | Subscriber      | 94105    | 4.07006\n",
       "721469  | 1774     | 4/11/2015 14:07  | Arena Green / SAP Center          | 14             | 4/11/2015 14:37  | Santa Clara County Civic Center          | 80           | 95     | Customer        | 95112    | 4.50254\n",
       "467223  | 259      | 9/24/2014 8:36   | San Antonio Caltrain Station      | 29             | 9/24/2014 8:40   | San Antonio Shopping Center              | 31           | 183    | Subscriber      | 94133    | 3.28847\n",
       "898461  | 413      | 8/20/2015 13:34  | Market at 4th                     | 76             | 8/20/2015 13:41  | Post at Kearny                           | 47           | 313    | Customer        | 14222    | 1.92876\n",
       "552253  | 442      | 11/20/2014 10:50 | 2nd at Folsom                     | 62             | 11/20/2014 10:57 | San Francisco Caltrain 2 (330 Townsend)  | 69           | 353    | Subscriber      | 94107    | 3.37995\n",
       "667949  | 568      | 3/4/2015 17:31   | San Jose Diridon Caltrain Station | 2              | 3/4/2015 17:40   | Paseo de San Antonio                     | 7            | 691    | Subscriber      | 95112    | 8.31582\n",
       "... (9990 rows omitted)"
      ]
     },
     "execution_count": 6,
     "metadata": {},
     "output_type": "execute_result"
    }
   ],
   "source": [
    "# adding a single column\n",
    "some_random_numbers = np.random.uniform(0, 10, trips.num_rows)\n",
    "trips.with_column(\"Random Numbers\", some_random_numbers)"
   ]
  },
  {
   "cell_type": "code",
   "execution_count": 7,
   "metadata": {
    "scrolled": true
   },
   "outputs": [
    {
     "data": {
      "text/html": [
       "<table border=\"1\" class=\"dataframe\">\n",
       "    <thead>\n",
       "        <tr>\n",
       "            <th>Trip ID</th> <th>Duration</th> <th>Start Date</th> <th>Start Station</th> <th>Start Terminal</th> <th>End Date</th> <th>End Station</th> <th>End Terminal</th> <th>Bike #</th> <th>Subscriber Type</th> <th>Zip Code</th> <th>Random Numbers</th> <th>More Random Numbers</th>\n",
       "        </tr>\n",
       "    </thead>\n",
       "    <tbody>\n",
       "        <tr>\n",
       "            <td>608033 </td> <td>280     </td> <td>1/16/2015 20:22 </td> <td>Embarcadero at Bryant            </td> <td>54            </td> <td>1/16/2015 20:27 </td> <td>Steuart at Market                       </td> <td>74          </td> <td>362   </td> <td>Subscriber     </td> <td>94705   </td> <td>0.0526983     </td> <td>5.06583            </td>\n",
       "        </tr>\n",
       "        <tr>\n",
       "            <td>661342 </td> <td>598     </td> <td>2/27/2015 15:58 </td> <td>South Van Ness at Market         </td> <td>66            </td> <td>2/27/2015 16:08 </td> <td>San Francisco Caltrain (Townsend at 4th)</td> <td>70          </td> <td>416   </td> <td>Subscriber     </td> <td>95119   </td> <td>7.54488       </td> <td>-9.81017           </td>\n",
       "        </tr>\n",
       "        <tr>\n",
       "            <td>571988 </td> <td>639     </td> <td>12/9/2014 17:12 </td> <td>Market at Sansome                </td> <td>77            </td> <td>12/9/2014 17:23 </td> <td>San Francisco Caltrain (Townsend at 4th)</td> <td>70          </td> <td>484   </td> <td>Subscriber     </td> <td>94010   </td> <td>2.69752       </td> <td>-14.1466           </td>\n",
       "        </tr>\n",
       "        <tr>\n",
       "            <td>875617 </td> <td>725     </td> <td>8/4/2015 17:34  </td> <td>South Van Ness at Market         </td> <td>66            </td> <td>8/4/2015 17:46  </td> <td>Beale at Market                         </td> <td>56          </td> <td>569   </td> <td>Subscriber     </td> <td>9611    </td> <td>7.87205       </td> <td>0.919075           </td>\n",
       "        </tr>\n",
       "        <tr>\n",
       "            <td>587393 </td> <td>759     </td> <td>12/29/2014 16:10</td> <td>Townsend at 7th                  </td> <td>65            </td> <td>12/29/2014 16:23</td> <td>Embarcadero at Bryant                   </td> <td>54          </td> <td>629   </td> <td>Subscriber     </td> <td>94105   </td> <td>4.07006       </td> <td>-2.38425           </td>\n",
       "        </tr>\n",
       "        <tr>\n",
       "            <td>721469 </td> <td>1774    </td> <td>4/11/2015 14:07 </td> <td>Arena Green / SAP Center         </td> <td>14            </td> <td>4/11/2015 14:37 </td> <td>Santa Clara County Civic Center         </td> <td>80          </td> <td>95    </td> <td>Customer       </td> <td>95112   </td> <td>4.50254       </td> <td>13.7681            </td>\n",
       "        </tr>\n",
       "        <tr>\n",
       "            <td>467223 </td> <td>259     </td> <td>9/24/2014 8:36  </td> <td>San Antonio Caltrain Station     </td> <td>29            </td> <td>9/24/2014 8:40  </td> <td>San Antonio Shopping Center             </td> <td>31          </td> <td>183   </td> <td>Subscriber     </td> <td>94133   </td> <td>3.28847       </td> <td>4.19801            </td>\n",
       "        </tr>\n",
       "        <tr>\n",
       "            <td>898461 </td> <td>413     </td> <td>8/20/2015 13:34 </td> <td>Market at 4th                    </td> <td>76            </td> <td>8/20/2015 13:41 </td> <td>Post at Kearny                          </td> <td>47          </td> <td>313   </td> <td>Customer       </td> <td>14222   </td> <td>1.92876       </td> <td>-2.07579           </td>\n",
       "        </tr>\n",
       "        <tr>\n",
       "            <td>552253 </td> <td>442     </td> <td>11/20/2014 10:50</td> <td>2nd at Folsom                    </td> <td>62            </td> <td>11/20/2014 10:57</td> <td>San Francisco Caltrain 2 (330 Townsend) </td> <td>69          </td> <td>353   </td> <td>Subscriber     </td> <td>94107   </td> <td>3.37995       </td> <td>3.36711            </td>\n",
       "        </tr>\n",
       "        <tr>\n",
       "            <td>667949 </td> <td>568     </td> <td>3/4/2015 17:31  </td> <td>San Jose Diridon Caltrain Station</td> <td>2             </td> <td>3/4/2015 17:40  </td> <td>Paseo de San Antonio                    </td> <td>7           </td> <td>691   </td> <td>Subscriber     </td> <td>95112   </td> <td>8.31582       </td> <td>-21.2531           </td>\n",
       "        </tr>\n",
       "    </tbody>\n",
       "</table>\n",
       "<p>... (9990 rows omitted)</p>"
      ],
      "text/plain": [
       "Trip ID | Duration | Start Date       | Start Station                     | Start Terminal | End Date         | End Station                              | End Terminal | Bike # | Subscriber Type | Zip Code | Random Numbers | More Random Numbers\n",
       "608033  | 280      | 1/16/2015 20:22  | Embarcadero at Bryant             | 54             | 1/16/2015 20:27  | Steuart at Market                        | 74           | 362    | Subscriber      | 94705    | 0.0526983      | 5.06583\n",
       "661342  | 598      | 2/27/2015 15:58  | South Van Ness at Market          | 66             | 2/27/2015 16:08  | San Francisco Caltrain (Townsend at 4th) | 70           | 416    | Subscriber      | 95119    | 7.54488        | -9.81017\n",
       "571988  | 639      | 12/9/2014 17:12  | Market at Sansome                 | 77             | 12/9/2014 17:23  | San Francisco Caltrain (Townsend at 4th) | 70           | 484    | Subscriber      | 94010    | 2.69752        | -14.1466\n",
       "875617  | 725      | 8/4/2015 17:34   | South Van Ness at Market          | 66             | 8/4/2015 17:46   | Beale at Market                          | 56           | 569    | Subscriber      | 9611     | 7.87205        | 0.919075\n",
       "587393  | 759      | 12/29/2014 16:10 | Townsend at 7th                   | 65             | 12/29/2014 16:23 | Embarcadero at Bryant                    | 54           | 629    | Subscriber      | 94105    | 4.07006        | -2.38425\n",
       "721469  | 1774     | 4/11/2015 14:07  | Arena Green / SAP Center          | 14             | 4/11/2015 14:37  | Santa Clara County Civic Center          | 80           | 95     | Customer        | 95112    | 4.50254        | 13.7681\n",
       "467223  | 259      | 9/24/2014 8:36   | San Antonio Caltrain Station      | 29             | 9/24/2014 8:40   | San Antonio Shopping Center              | 31           | 183    | Subscriber      | 94133    | 3.28847        | 4.19801\n",
       "898461  | 413      | 8/20/2015 13:34  | Market at 4th                     | 76             | 8/20/2015 13:41  | Post at Kearny                           | 47           | 313    | Customer        | 14222    | 1.92876        | -2.07579\n",
       "552253  | 442      | 11/20/2014 10:50 | 2nd at Folsom                     | 62             | 11/20/2014 10:57 | San Francisco Caltrain 2 (330 Townsend)  | 69           | 353    | Subscriber      | 94107    | 3.37995        | 3.36711\n",
       "667949  | 568      | 3/4/2015 17:31   | San Jose Diridon Caltrain Station | 2              | 3/4/2015 17:40   | Paseo de San Antonio                     | 7            | 691    | Subscriber      | 95112    | 8.31582        | -21.2531\n",
       "... (9990 rows omitted)"
      ]
     },
     "execution_count": 7,
     "metadata": {},
     "output_type": "execute_result"
    }
   ],
   "source": [
    "# adding multiple columns\n",
    "some_more_random_numbers = np.random.normal(0, 10, trips.num_rows)\n",
    "trips.with_columns(\n",
    "    \"Random Numbers\", some_random_numbers,\n",
    "    \"More Random Numbers\", some_more_random_numbers\n",
    ")"
   ]
  },
  {
   "cell_type": "markdown",
   "metadata": {},
   "source": [
    "Note that in the `.with_columns()` call, the column labels and values alternate; that is, the call should have the form\n",
    "\n",
    "```python\n",
    "tbl.with_columns(\n",
    "    \"Label 1\", values_1,\n",
    "    \"Label 2\", values_2,\n",
    "    \"Label 3\", values_3,\n",
    "    ...\n",
    ")\n",
    "```\n",
    "\n",
    "It is also important that the values argument(s) have the same number of rows as the table they are being added to. A single value entered as this argument will be broadcast to the entire table, but any length besides 1 or the number of rows in the table will throw an error."
   ]
  },
  {
   "cell_type": "markdown",
   "metadata": {},
   "source": [
    "It is also possible to change the labels of columns using the `.relabeled()` method."
   ]
  },
  {
   "cell_type": "code",
   "execution_count": 8,
   "metadata": {
    "scrolled": true
   },
   "outputs": [
    {
     "data": {
      "text/html": [
       "<table border=\"1\" class=\"dataframe\">\n",
       "    <thead>\n",
       "        <tr>\n",
       "            <th>Trip ID</th> <th>Time</th> <th>Start Date</th> <th>Start Station</th> <th>Start Terminal</th> <th>End Date</th> <th>End Station</th> <th>End Terminal</th> <th>Bike #</th> <th>Subscriber Type</th> <th>Zip Code</th>\n",
       "        </tr>\n",
       "    </thead>\n",
       "    <tbody>\n",
       "        <tr>\n",
       "            <td>608033 </td> <td>280 </td> <td>1/16/2015 20:22 </td> <td>Embarcadero at Bryant            </td> <td>54            </td> <td>1/16/2015 20:27 </td> <td>Steuart at Market                       </td> <td>74          </td> <td>362   </td> <td>Subscriber     </td> <td>94705   </td>\n",
       "        </tr>\n",
       "        <tr>\n",
       "            <td>661342 </td> <td>598 </td> <td>2/27/2015 15:58 </td> <td>South Van Ness at Market         </td> <td>66            </td> <td>2/27/2015 16:08 </td> <td>San Francisco Caltrain (Townsend at 4th)</td> <td>70          </td> <td>416   </td> <td>Subscriber     </td> <td>95119   </td>\n",
       "        </tr>\n",
       "        <tr>\n",
       "            <td>571988 </td> <td>639 </td> <td>12/9/2014 17:12 </td> <td>Market at Sansome                </td> <td>77            </td> <td>12/9/2014 17:23 </td> <td>San Francisco Caltrain (Townsend at 4th)</td> <td>70          </td> <td>484   </td> <td>Subscriber     </td> <td>94010   </td>\n",
       "        </tr>\n",
       "        <tr>\n",
       "            <td>875617 </td> <td>725 </td> <td>8/4/2015 17:34  </td> <td>South Van Ness at Market         </td> <td>66            </td> <td>8/4/2015 17:46  </td> <td>Beale at Market                         </td> <td>56          </td> <td>569   </td> <td>Subscriber     </td> <td>9611    </td>\n",
       "        </tr>\n",
       "        <tr>\n",
       "            <td>587393 </td> <td>759 </td> <td>12/29/2014 16:10</td> <td>Townsend at 7th                  </td> <td>65            </td> <td>12/29/2014 16:23</td> <td>Embarcadero at Bryant                   </td> <td>54          </td> <td>629   </td> <td>Subscriber     </td> <td>94105   </td>\n",
       "        </tr>\n",
       "        <tr>\n",
       "            <td>721469 </td> <td>1774</td> <td>4/11/2015 14:07 </td> <td>Arena Green / SAP Center         </td> <td>14            </td> <td>4/11/2015 14:37 </td> <td>Santa Clara County Civic Center         </td> <td>80          </td> <td>95    </td> <td>Customer       </td> <td>95112   </td>\n",
       "        </tr>\n",
       "        <tr>\n",
       "            <td>467223 </td> <td>259 </td> <td>9/24/2014 8:36  </td> <td>San Antonio Caltrain Station     </td> <td>29            </td> <td>9/24/2014 8:40  </td> <td>San Antonio Shopping Center             </td> <td>31          </td> <td>183   </td> <td>Subscriber     </td> <td>94133   </td>\n",
       "        </tr>\n",
       "        <tr>\n",
       "            <td>898461 </td> <td>413 </td> <td>8/20/2015 13:34 </td> <td>Market at 4th                    </td> <td>76            </td> <td>8/20/2015 13:41 </td> <td>Post at Kearny                          </td> <td>47          </td> <td>313   </td> <td>Customer       </td> <td>14222   </td>\n",
       "        </tr>\n",
       "        <tr>\n",
       "            <td>552253 </td> <td>442 </td> <td>11/20/2014 10:50</td> <td>2nd at Folsom                    </td> <td>62            </td> <td>11/20/2014 10:57</td> <td>San Francisco Caltrain 2 (330 Townsend) </td> <td>69          </td> <td>353   </td> <td>Subscriber     </td> <td>94107   </td>\n",
       "        </tr>\n",
       "        <tr>\n",
       "            <td>667949 </td> <td>568 </td> <td>3/4/2015 17:31  </td> <td>San Jose Diridon Caltrain Station</td> <td>2             </td> <td>3/4/2015 17:40  </td> <td>Paseo de San Antonio                    </td> <td>7           </td> <td>691   </td> <td>Subscriber     </td> <td>95112   </td>\n",
       "        </tr>\n",
       "    </tbody>\n",
       "</table>\n",
       "<p>... (9990 rows omitted)</p>"
      ],
      "text/plain": [
       "Trip ID | Time | Start Date       | Start Station                     | Start Terminal | End Date         | End Station                              | End Terminal | Bike # | Subscriber Type | Zip Code\n",
       "608033  | 280  | 1/16/2015 20:22  | Embarcadero at Bryant             | 54             | 1/16/2015 20:27  | Steuart at Market                        | 74           | 362    | Subscriber      | 94705\n",
       "661342  | 598  | 2/27/2015 15:58  | South Van Ness at Market          | 66             | 2/27/2015 16:08  | San Francisco Caltrain (Townsend at 4th) | 70           | 416    | Subscriber      | 95119\n",
       "571988  | 639  | 12/9/2014 17:12  | Market at Sansome                 | 77             | 12/9/2014 17:23  | San Francisco Caltrain (Townsend at 4th) | 70           | 484    | Subscriber      | 94010\n",
       "875617  | 725  | 8/4/2015 17:34   | South Van Ness at Market          | 66             | 8/4/2015 17:46   | Beale at Market                          | 56           | 569    | Subscriber      | 9611\n",
       "587393  | 759  | 12/29/2014 16:10 | Townsend at 7th                   | 65             | 12/29/2014 16:23 | Embarcadero at Bryant                    | 54           | 629    | Subscriber      | 94105\n",
       "721469  | 1774 | 4/11/2015 14:07  | Arena Green / SAP Center          | 14             | 4/11/2015 14:37  | Santa Clara County Civic Center          | 80           | 95     | Customer        | 95112\n",
       "467223  | 259  | 9/24/2014 8:36   | San Antonio Caltrain Station      | 29             | 9/24/2014 8:40   | San Antonio Shopping Center              | 31           | 183    | Subscriber      | 94133\n",
       "898461  | 413  | 8/20/2015 13:34  | Market at 4th                     | 76             | 8/20/2015 13:41  | Post at Kearny                           | 47           | 313    | Customer        | 14222\n",
       "552253  | 442  | 11/20/2014 10:50 | 2nd at Folsom                     | 62             | 11/20/2014 10:57 | San Francisco Caltrain 2 (330 Townsend)  | 69           | 353    | Subscriber      | 94107\n",
       "667949  | 568  | 3/4/2015 17:31   | San Jose Diridon Caltrain Station | 2              | 3/4/2015 17:40   | Paseo de San Antonio                     | 7            | 691    | Subscriber      | 95112\n",
       "... (9990 rows omitted)"
      ]
     },
     "execution_count": 8,
     "metadata": {},
     "output_type": "execute_result"
    }
   ],
   "source": [
    "trips.relabeled(\"Duration\", \"Time\")"
   ]
  },
  {
   "cell_type": "markdown",
   "metadata": {},
   "source": [
    "### Accessing Values\n",
    "\n",
    "For all non-continuous variables, it is usually important to understand the possible values of the variable; that is, to know the variable's _unique_ values. While `datascience` does not have a built-in method, it is a simple thing to export a column as an array and pass it to `np.unique`."
   ]
  },
  {
   "cell_type": "code",
   "execution_count": 9,
   "metadata": {
    "scrolled": true
   },
   "outputs": [
    {
     "data": {
      "text/plain": [
       "array(['1/1/2015 0:56', '1/1/2015 10:01', '1/1/2015 11:56', ...,\n",
       "       '9/9/2014 9:30', '9/9/2014 9:33', '9/9/2014 9:46'], dtype='<U16')"
      ]
     },
     "execution_count": 9,
     "metadata": {},
     "output_type": "execute_result"
    }
   ],
   "source": [
    "np.unique(trips.column('Start Date'))"
   ]
  },
  {
   "cell_type": "markdown",
   "metadata": {},
   "source": [
    "The `datascience` library provides the `.where()` method to filter rows, which uses a column name and a predicate function."
   ]
  },
  {
   "cell_type": "code",
   "execution_count": 10,
   "metadata": {
    "scrolled": true
   },
   "outputs": [
    {
     "data": {
      "text/html": [
       "<table border=\"1\" class=\"dataframe\">\n",
       "    <thead>\n",
       "        <tr>\n",
       "            <th>Trip ID</th> <th>Duration</th> <th>Start Date</th> <th>Start Station</th> <th>Start Terminal</th> <th>End Date</th> <th>End Station</th> <th>End Terminal</th> <th>Bike #</th> <th>Subscriber Type</th> <th>Zip Code</th>\n",
       "        </tr>\n",
       "    </thead>\n",
       "    <tbody>\n",
       "        <tr>\n",
       "            <td>517635 </td> <td>96      </td> <td>10/27/2014 17:47</td> <td>Beale at Market                              </td> <td>56            </td> <td>10/27/2014 17:48</td> <td>Harry Bridges Plaza (Ferry Building)         </td> <td>50          </td> <td>481   </td> <td>Subscriber     </td> <td>94107   </td>\n",
       "        </tr>\n",
       "        <tr>\n",
       "            <td>689331 </td> <td>95      </td> <td>3/19/2015 13:56 </td> <td>Market at 4th                                </td> <td>76            </td> <td>3/19/2015 13:58 </td> <td>Post at Kearny                               </td> <td>47          </td> <td>469   </td> <td>Subscriber     </td> <td>94904   </td>\n",
       "        </tr>\n",
       "        <tr>\n",
       "            <td>599279 </td> <td>75      </td> <td>1/11/2015 13:41 </td> <td>Broadway St at Battery St                    </td> <td>82            </td> <td>1/11/2015 13:42 </td> <td>Broadway St at Battery St                    </td> <td>82          </td> <td>536   </td> <td>Customer       </td> <td>47906   </td>\n",
       "        </tr>\n",
       "        <tr>\n",
       "            <td>867039 </td> <td>96      </td> <td>7/29/2015 10:11 </td> <td>Howard at 2nd                                </td> <td>63            </td> <td>7/29/2015 10:13 </td> <td>Yerba Buena Center of the Arts (3rd @ Howard)</td> <td>68          </td> <td>613   </td> <td>Subscriber     </td> <td>94804   </td>\n",
       "        </tr>\n",
       "        <tr>\n",
       "            <td>788449 </td> <td>61      </td> <td>6/1/2015 11:03  </td> <td>2nd at Folsom                                </td> <td>62            </td> <td>6/1/2015 11:04  </td> <td>2nd at Folsom                                </td> <td>62          </td> <td>524   </td> <td>Subscriber     </td> <td>94553   </td>\n",
       "        </tr>\n",
       "        <tr>\n",
       "            <td>614924 </td> <td>90      </td> <td>1/22/2015 17:28 </td> <td>Townsend at 7th                              </td> <td>65            </td> <td>1/22/2015 17:29 </td> <td>Townsend at 7th                              </td> <td>65          </td> <td>468   </td> <td>Subscriber     </td> <td>94107   </td>\n",
       "        </tr>\n",
       "        <tr>\n",
       "            <td>596672 </td> <td>69      </td> <td>1/8/2015 17:33  </td> <td>Beale at Market                              </td> <td>56            </td> <td>1/8/2015 17:34  </td> <td>Temporary Transbay Terminal (Howard at Beale)</td> <td>55          </td> <td>329   </td> <td>Subscriber     </td> <td>94602   </td>\n",
       "        </tr>\n",
       "        <tr>\n",
       "            <td>810794 </td> <td>93      </td> <td>6/17/2015 11:41 </td> <td>Market at Sansome                            </td> <td>77            </td> <td>6/17/2015 11:43 </td> <td>2nd at South Park                            </td> <td>64          </td> <td>469   </td> <td>Subscriber     </td> <td>94544   </td>\n",
       "        </tr>\n",
       "        <tr>\n",
       "            <td>849893 </td> <td>96      </td> <td>7/16/2015 17:12 </td> <td>Yerba Buena Center of the Arts (3rd @ Howard)</td> <td>68            </td> <td>7/16/2015 17:14 </td> <td>2nd at South Park                            </td> <td>64          </td> <td>563   </td> <td>Subscriber     </td> <td>94127   </td>\n",
       "        </tr>\n",
       "        <tr>\n",
       "            <td>586772 </td> <td>67      </td> <td>12/28/2014 17:54</td> <td>Market at 10th                               </td> <td>67            </td> <td>12/28/2014 17:55</td> <td>Market at 10th                               </td> <td>67          </td> <td>424   </td> <td>Customer       </td> <td>45227   </td>\n",
       "        </tr>\n",
       "    </tbody>\n",
       "</table>\n",
       "<p>... (23 rows omitted)</p>"
      ],
      "text/plain": [
       "Trip ID | Duration | Start Date       | Start Station                                 | Start Terminal | End Date         | End Station                                   | End Terminal | Bike # | Subscriber Type | Zip Code\n",
       "517635  | 96       | 10/27/2014 17:47 | Beale at Market                               | 56             | 10/27/2014 17:48 | Harry Bridges Plaza (Ferry Building)          | 50           | 481    | Subscriber      | 94107\n",
       "689331  | 95       | 3/19/2015 13:56  | Market at 4th                                 | 76             | 3/19/2015 13:58  | Post at Kearny                                | 47           | 469    | Subscriber      | 94904\n",
       "599279  | 75       | 1/11/2015 13:41  | Broadway St at Battery St                     | 82             | 1/11/2015 13:42  | Broadway St at Battery St                     | 82           | 536    | Customer        | 47906\n",
       "867039  | 96       | 7/29/2015 10:11  | Howard at 2nd                                 | 63             | 7/29/2015 10:13  | Yerba Buena Center of the Arts (3rd @ Howard) | 68           | 613    | Subscriber      | 94804\n",
       "788449  | 61       | 6/1/2015 11:03   | 2nd at Folsom                                 | 62             | 6/1/2015 11:04   | 2nd at Folsom                                 | 62           | 524    | Subscriber      | 94553\n",
       "614924  | 90       | 1/22/2015 17:28  | Townsend at 7th                               | 65             | 1/22/2015 17:29  | Townsend at 7th                               | 65           | 468    | Subscriber      | 94107\n",
       "596672  | 69       | 1/8/2015 17:33   | Beale at Market                               | 56             | 1/8/2015 17:34   | Temporary Transbay Terminal (Howard at Beale) | 55           | 329    | Subscriber      | 94602\n",
       "810794  | 93       | 6/17/2015 11:41  | Market at Sansome                             | 77             | 6/17/2015 11:43  | 2nd at South Park                             | 64           | 469    | Subscriber      | 94544\n",
       "849893  | 96       | 7/16/2015 17:12  | Yerba Buena Center of the Arts (3rd @ Howard) | 68             | 7/16/2015 17:14  | 2nd at South Park                             | 64           | 563    | Subscriber      | 94127\n",
       "586772  | 67       | 12/28/2014 17:54 | Market at 10th                                | 67             | 12/28/2014 17:55 | Market at 10th                                | 67           | 424    | Customer        | 45227\n",
       "... (23 rows omitted)"
      ]
     },
     "execution_count": 10,
     "metadata": {},
     "output_type": "execute_result"
    }
   ],
   "source": [
    "trips.where(\"Duration\", lambda x: x < 100)"
   ]
  },
  {
   "cell_type": "markdown",
   "metadata": {},
   "source": [
    "The library also provides the `are` class to create predicate functions. Each method of this class returns a boolean function that can be called on a value. For example, if we wanted a function that checked whether or not a value is greater than or equal to 1000, we could use the call below:"
   ]
  },
  {
   "cell_type": "code",
   "execution_count": 11,
   "metadata": {
    "scrolled": true
   },
   "outputs": [
    {
     "data": {
      "text/plain": [
       "<datascience.predicates._combinable at 0x109f29c10>"
      ]
     },
     "execution_count": 11,
     "metadata": {},
     "output_type": "execute_result"
    }
   ],
   "source": [
    "are.above_or_equal_to(1000)"
   ]
  },
  {
   "cell_type": "markdown",
   "metadata": {},
   "source": [
    "You can pass these `are` objects to the `.where()` method to use as predicate functions. This is how students in Data 8 are taught to filter rows."
   ]
  },
  {
   "cell_type": "code",
   "execution_count": 12,
   "metadata": {
    "scrolled": true
   },
   "outputs": [
    {
     "data": {
      "text/html": [
       "<table border=\"1\" class=\"dataframe\">\n",
       "    <thead>\n",
       "        <tr>\n",
       "            <th>Trip ID</th> <th>Duration</th> <th>Start Date</th> <th>Start Station</th> <th>Start Terminal</th> <th>End Date</th> <th>End Station</th> <th>End Terminal</th> <th>Bike #</th> <th>Subscriber Type</th> <th>Zip Code</th>\n",
       "        </tr>\n",
       "    </thead>\n",
       "    <tbody>\n",
       "        <tr>\n",
       "            <td>517635 </td> <td>96      </td> <td>10/27/2014 17:47</td> <td>Beale at Market                              </td> <td>56            </td> <td>10/27/2014 17:48</td> <td>Harry Bridges Plaza (Ferry Building)         </td> <td>50          </td> <td>481   </td> <td>Subscriber     </td> <td>94107   </td>\n",
       "        </tr>\n",
       "        <tr>\n",
       "            <td>689331 </td> <td>95      </td> <td>3/19/2015 13:56 </td> <td>Market at 4th                                </td> <td>76            </td> <td>3/19/2015 13:58 </td> <td>Post at Kearny                               </td> <td>47          </td> <td>469   </td> <td>Subscriber     </td> <td>94904   </td>\n",
       "        </tr>\n",
       "        <tr>\n",
       "            <td>599279 </td> <td>75      </td> <td>1/11/2015 13:41 </td> <td>Broadway St at Battery St                    </td> <td>82            </td> <td>1/11/2015 13:42 </td> <td>Broadway St at Battery St                    </td> <td>82          </td> <td>536   </td> <td>Customer       </td> <td>47906   </td>\n",
       "        </tr>\n",
       "        <tr>\n",
       "            <td>867039 </td> <td>96      </td> <td>7/29/2015 10:11 </td> <td>Howard at 2nd                                </td> <td>63            </td> <td>7/29/2015 10:13 </td> <td>Yerba Buena Center of the Arts (3rd @ Howard)</td> <td>68          </td> <td>613   </td> <td>Subscriber     </td> <td>94804   </td>\n",
       "        </tr>\n",
       "        <tr>\n",
       "            <td>788449 </td> <td>61      </td> <td>6/1/2015 11:03  </td> <td>2nd at Folsom                                </td> <td>62            </td> <td>6/1/2015 11:04  </td> <td>2nd at Folsom                                </td> <td>62          </td> <td>524   </td> <td>Subscriber     </td> <td>94553   </td>\n",
       "        </tr>\n",
       "        <tr>\n",
       "            <td>614924 </td> <td>90      </td> <td>1/22/2015 17:28 </td> <td>Townsend at 7th                              </td> <td>65            </td> <td>1/22/2015 17:29 </td> <td>Townsend at 7th                              </td> <td>65          </td> <td>468   </td> <td>Subscriber     </td> <td>94107   </td>\n",
       "        </tr>\n",
       "        <tr>\n",
       "            <td>596672 </td> <td>69      </td> <td>1/8/2015 17:33  </td> <td>Beale at Market                              </td> <td>56            </td> <td>1/8/2015 17:34  </td> <td>Temporary Transbay Terminal (Howard at Beale)</td> <td>55          </td> <td>329   </td> <td>Subscriber     </td> <td>94602   </td>\n",
       "        </tr>\n",
       "        <tr>\n",
       "            <td>810794 </td> <td>93      </td> <td>6/17/2015 11:41 </td> <td>Market at Sansome                            </td> <td>77            </td> <td>6/17/2015 11:43 </td> <td>2nd at South Park                            </td> <td>64          </td> <td>469   </td> <td>Subscriber     </td> <td>94544   </td>\n",
       "        </tr>\n",
       "        <tr>\n",
       "            <td>849893 </td> <td>96      </td> <td>7/16/2015 17:12 </td> <td>Yerba Buena Center of the Arts (3rd @ Howard)</td> <td>68            </td> <td>7/16/2015 17:14 </td> <td>2nd at South Park                            </td> <td>64          </td> <td>563   </td> <td>Subscriber     </td> <td>94127   </td>\n",
       "        </tr>\n",
       "        <tr>\n",
       "            <td>586772 </td> <td>67      </td> <td>12/28/2014 17:54</td> <td>Market at 10th                               </td> <td>67            </td> <td>12/28/2014 17:55</td> <td>Market at 10th                               </td> <td>67          </td> <td>424   </td> <td>Customer       </td> <td>45227   </td>\n",
       "        </tr>\n",
       "    </tbody>\n",
       "</table>\n",
       "<p>... (23 rows omitted)</p>"
      ],
      "text/plain": [
       "Trip ID | Duration | Start Date       | Start Station                                 | Start Terminal | End Date         | End Station                                   | End Terminal | Bike # | Subscriber Type | Zip Code\n",
       "517635  | 96       | 10/27/2014 17:47 | Beale at Market                               | 56             | 10/27/2014 17:48 | Harry Bridges Plaza (Ferry Building)          | 50           | 481    | Subscriber      | 94107\n",
       "689331  | 95       | 3/19/2015 13:56  | Market at 4th                                 | 76             | 3/19/2015 13:58  | Post at Kearny                                | 47           | 469    | Subscriber      | 94904\n",
       "599279  | 75       | 1/11/2015 13:41  | Broadway St at Battery St                     | 82             | 1/11/2015 13:42  | Broadway St at Battery St                     | 82           | 536    | Customer        | 47906\n",
       "867039  | 96       | 7/29/2015 10:11  | Howard at 2nd                                 | 63             | 7/29/2015 10:13  | Yerba Buena Center of the Arts (3rd @ Howard) | 68           | 613    | Subscriber      | 94804\n",
       "788449  | 61       | 6/1/2015 11:03   | 2nd at Folsom                                 | 62             | 6/1/2015 11:04   | 2nd at Folsom                                 | 62           | 524    | Subscriber      | 94553\n",
       "614924  | 90       | 1/22/2015 17:28  | Townsend at 7th                               | 65             | 1/22/2015 17:29  | Townsend at 7th                               | 65           | 468    | Subscriber      | 94107\n",
       "596672  | 69       | 1/8/2015 17:33   | Beale at Market                               | 56             | 1/8/2015 17:34   | Temporary Transbay Terminal (Howard at Beale) | 55           | 329    | Subscriber      | 94602\n",
       "810794  | 93       | 6/17/2015 11:41  | Market at Sansome                             | 77             | 6/17/2015 11:43  | 2nd at South Park                             | 64           | 469    | Subscriber      | 94544\n",
       "849893  | 96       | 7/16/2015 17:12  | Yerba Buena Center of the Arts (3rd @ Howard) | 68             | 7/16/2015 17:14  | 2nd at South Park                             | 64           | 563    | Subscriber      | 94127\n",
       "586772  | 67       | 12/28/2014 17:54 | Market at 10th                                | 67             | 12/28/2014 17:55 | Market at 10th                                | 67           | 424    | Customer        | 45227\n",
       "... (23 rows omitted)"
      ]
     },
     "execution_count": 12,
     "metadata": {},
     "output_type": "execute_result"
    }
   ],
   "source": [
    "trips.where(\"Duration\", are.below(100))"
   ]
  },
  {
   "cell_type": "markdown",
   "metadata": {},
   "source": [
    "For a full list of predicate functions, see the [`datascience.predicates` documentation](http://data8.org/datascience/predicates.html)."
   ]
  },
  {
   "cell_type": "markdown",
   "metadata": {},
   "source": [
    "To sort the rows of a table, use the `.sort()` method. It defaults to ascending, so to get values in `descending` order the `descending` argument must be set to `True`."
   ]
  },
  {
   "cell_type": "code",
   "execution_count": 13,
   "metadata": {
    "scrolled": true
   },
   "outputs": [
    {
     "data": {
      "text/html": [
       "<table border=\"1\" class=\"dataframe\">\n",
       "    <thead>\n",
       "        <tr>\n",
       "            <th>Trip ID</th> <th>Duration</th> <th>Start Date</th> <th>Start Station</th> <th>Start Terminal</th> <th>End Date</th> <th>End Station</th> <th>End Terminal</th> <th>Bike #</th> <th>Subscriber Type</th> <th>Zip Code</th>\n",
       "        </tr>\n",
       "    </thead>\n",
       "    <tbody>\n",
       "        <tr>\n",
       "            <td>618539 </td> <td>191136  </td> <td>1/26/2015 12:06 </td> <td>Santa Clara County Civic Center              </td> <td>80            </td> <td>1/28/2015 17:12 </td> <td>San Pedro Square                        </td> <td>6           </td> <td>241   </td> <td>Subscriber     </td> <td>95110   </td>\n",
       "        </tr>\n",
       "        <tr>\n",
       "            <td>586616 </td> <td>183913  </td> <td>12/28/2014 13:28</td> <td>Harry Bridges Plaza (Ferry Building)         </td> <td>50            </td> <td>12/30/2014 16:33</td> <td>Post at Kearny                          </td> <td>47          </td> <td>602   </td> <td>Customer       </td> <td>16801   </td>\n",
       "        </tr>\n",
       "        <tr>\n",
       "            <td>492788 </td> <td>154979  </td> <td>10/10/2014 14:40</td> <td>Yerba Buena Center of the Arts (3rd @ Howard)</td> <td>68            </td> <td>10/12/2014 9:43 </td> <td>5th at Howard                           </td> <td>57          </td> <td>503   </td> <td>Customer       </td> <td>94411   </td>\n",
       "        </tr>\n",
       "        <tr>\n",
       "            <td>797050 </td> <td>84520   </td> <td>6/7/2015 9:34   </td> <td>Market at 10th                               </td> <td>67            </td> <td>6/8/2015 9:03   </td> <td>Townsend at 7th                         </td> <td>65          </td> <td>621   </td> <td>Subscriber     </td> <td>94103   </td>\n",
       "        </tr>\n",
       "        <tr>\n",
       "            <td>568511 </td> <td>77299   </td> <td>12/7/2014 2:03  </td> <td>San Francisco City Hall                      </td> <td>58            </td> <td>12/7/2014 23:32 </td> <td>Powell at Post (Union Square)           </td> <td>71          </td> <td>357   </td> <td>Customer       </td> <td>91108   </td>\n",
       "        </tr>\n",
       "        <tr>\n",
       "            <td>779359 </td> <td>75993   </td> <td>5/23/2015 17:28 </td> <td>Howard at 2nd                                </td> <td>63            </td> <td>5/24/2015 14:34 </td> <td>Powell Street BART                      </td> <td>39          </td> <td>528   </td> <td>Subscriber     </td> <td>94108   </td>\n",
       "        </tr>\n",
       "        <tr>\n",
       "            <td>833214 </td> <td>71238   </td> <td>7/4/2015 14:33  </td> <td>Cowper at University                         </td> <td>37            </td> <td>7/5/2015 10:20  </td> <td>Cowper at University                    </td> <td>37          </td> <td>89    </td> <td>Customer       </td> <td>92116   </td>\n",
       "        </tr>\n",
       "        <tr>\n",
       "            <td>859786 </td> <td>64419   </td> <td>7/23/2015 18:32 </td> <td>Mountain View City Hall                      </td> <td>27            </td> <td>7/24/2015 12:26 </td> <td>Mountain View City Hall                 </td> <td>27          </td> <td>10    </td> <td>Customer       </td> <td>94041   </td>\n",
       "        </tr>\n",
       "        <tr>\n",
       "            <td>806341 </td> <td>62751   </td> <td>6/14/2015 15:28 </td> <td>Mechanics Plaza (Market at Battery)          </td> <td>75            </td> <td>6/15/2015 8:54  </td> <td>San Francisco Caltrain (Townsend at 4th)</td> <td>70          </td> <td>472   </td> <td>Customer       </td> <td>94124   </td>\n",
       "        </tr>\n",
       "        <tr>\n",
       "            <td>895153 </td> <td>56738   </td> <td>8/18/2015 16:47 </td> <td>Mechanics Plaza (Market at Battery)          </td> <td>75            </td> <td>8/19/2015 8:33  </td> <td>Mechanics Plaza (Market at Battery)     </td> <td>75          </td> <td>575   </td> <td>Customer       </td> <td>76148   </td>\n",
       "        </tr>\n",
       "    </tbody>\n",
       "</table>\n",
       "<p>... (9990 rows omitted)</p>"
      ],
      "text/plain": [
       "Trip ID | Duration | Start Date       | Start Station                                 | Start Terminal | End Date         | End Station                              | End Terminal | Bike # | Subscriber Type | Zip Code\n",
       "618539  | 191136   | 1/26/2015 12:06  | Santa Clara County Civic Center               | 80             | 1/28/2015 17:12  | San Pedro Square                         | 6            | 241    | Subscriber      | 95110\n",
       "586616  | 183913   | 12/28/2014 13:28 | Harry Bridges Plaza (Ferry Building)          | 50             | 12/30/2014 16:33 | Post at Kearny                           | 47           | 602    | Customer        | 16801\n",
       "492788  | 154979   | 10/10/2014 14:40 | Yerba Buena Center of the Arts (3rd @ Howard) | 68             | 10/12/2014 9:43  | 5th at Howard                            | 57           | 503    | Customer        | 94411\n",
       "797050  | 84520    | 6/7/2015 9:34    | Market at 10th                                | 67             | 6/8/2015 9:03    | Townsend at 7th                          | 65           | 621    | Subscriber      | 94103\n",
       "568511  | 77299    | 12/7/2014 2:03   | San Francisco City Hall                       | 58             | 12/7/2014 23:32  | Powell at Post (Union Square)            | 71           | 357    | Customer        | 91108\n",
       "779359  | 75993    | 5/23/2015 17:28  | Howard at 2nd                                 | 63             | 5/24/2015 14:34  | Powell Street BART                       | 39           | 528    | Subscriber      | 94108\n",
       "833214  | 71238    | 7/4/2015 14:33   | Cowper at University                          | 37             | 7/5/2015 10:20   | Cowper at University                     | 37           | 89     | Customer        | 92116\n",
       "859786  | 64419    | 7/23/2015 18:32  | Mountain View City Hall                       | 27             | 7/24/2015 12:26  | Mountain View City Hall                  | 27           | 10     | Customer        | 94041\n",
       "806341  | 62751    | 6/14/2015 15:28  | Mechanics Plaza (Market at Battery)           | 75             | 6/15/2015 8:54   | San Francisco Caltrain (Townsend at 4th) | 70           | 472    | Customer        | 94124\n",
       "895153  | 56738    | 8/18/2015 16:47  | Mechanics Plaza (Market at Battery)           | 75             | 8/19/2015 8:33   | Mechanics Plaza (Market at Battery)      | 75           | 575    | Customer        | 76148\n",
       "... (9990 rows omitted)"
      ]
     },
     "execution_count": 13,
     "metadata": {},
     "output_type": "execute_result"
    }
   ],
   "source": [
    "trips.sort(\"Duration\", descending=True)"
   ]
  },
  {
   "cell_type": "markdown",
   "metadata": {},
   "source": [
    "### Missing Values\n",
    "\n",
    "The `datascience` library does not currently have the functionality to support working with missing values, although it is possible to transfer your data to `pandas` and use that library's tools."
   ]
  },
  {
   "cell_type": "markdown",
   "metadata": {},
   "source": [
    "However, it is possible to combine row filtering with NumPy functions (or `pandas` ones) to do some simple filtering. As an example, if we wanted to filter out rows with missing values in a specific column, we could define our own predicate function as below and then use the `.where()` method to filter rows."
   ]
  },
  {
   "cell_type": "code",
   "execution_count": 14,
   "metadata": {
    "scrolled": true
   },
   "outputs": [
    {
     "data": {
      "text/html": [
       "<table border=\"1\" class=\"dataframe\">\n",
       "    <thead>\n",
       "        <tr>\n",
       "            <th>Trip ID</th> <th>Duration</th> <th>Start Date</th> <th>Start Station</th> <th>Start Terminal</th> <th>End Date</th> <th>End Station</th> <th>End Terminal</th> <th>Bike #</th> <th>Subscriber Type</th> <th>Zip Code</th>\n",
       "        </tr>\n",
       "    </thead>\n",
       "    <tbody>\n",
       "        <tr>\n",
       "            <td>608033 </td> <td>280     </td> <td>1/16/2015 20:22 </td> <td>Embarcadero at Bryant            </td> <td>54            </td> <td>1/16/2015 20:27 </td> <td>Steuart at Market                       </td> <td>74          </td> <td>362   </td> <td>Subscriber     </td> <td>94705   </td>\n",
       "        </tr>\n",
       "        <tr>\n",
       "            <td>661342 </td> <td>598     </td> <td>2/27/2015 15:58 </td> <td>South Van Ness at Market         </td> <td>66            </td> <td>2/27/2015 16:08 </td> <td>San Francisco Caltrain (Townsend at 4th)</td> <td>70          </td> <td>416   </td> <td>Subscriber     </td> <td>95119   </td>\n",
       "        </tr>\n",
       "        <tr>\n",
       "            <td>571988 </td> <td>639     </td> <td>12/9/2014 17:12 </td> <td>Market at Sansome                </td> <td>77            </td> <td>12/9/2014 17:23 </td> <td>San Francisco Caltrain (Townsend at 4th)</td> <td>70          </td> <td>484   </td> <td>Subscriber     </td> <td>94010   </td>\n",
       "        </tr>\n",
       "        <tr>\n",
       "            <td>875617 </td> <td>725     </td> <td>8/4/2015 17:34  </td> <td>South Van Ness at Market         </td> <td>66            </td> <td>8/4/2015 17:46  </td> <td>Beale at Market                         </td> <td>56          </td> <td>569   </td> <td>Subscriber     </td> <td>9611    </td>\n",
       "        </tr>\n",
       "        <tr>\n",
       "            <td>587393 </td> <td>759     </td> <td>12/29/2014 16:10</td> <td>Townsend at 7th                  </td> <td>65            </td> <td>12/29/2014 16:23</td> <td>Embarcadero at Bryant                   </td> <td>54          </td> <td>629   </td> <td>Subscriber     </td> <td>94105   </td>\n",
       "        </tr>\n",
       "        <tr>\n",
       "            <td>721469 </td> <td>1774    </td> <td>4/11/2015 14:07 </td> <td>Arena Green / SAP Center         </td> <td>14            </td> <td>4/11/2015 14:37 </td> <td>Santa Clara County Civic Center         </td> <td>80          </td> <td>95    </td> <td>Customer       </td> <td>95112   </td>\n",
       "        </tr>\n",
       "        <tr>\n",
       "            <td>467223 </td> <td>259     </td> <td>9/24/2014 8:36  </td> <td>San Antonio Caltrain Station     </td> <td>29            </td> <td>9/24/2014 8:40  </td> <td>San Antonio Shopping Center             </td> <td>31          </td> <td>183   </td> <td>Subscriber     </td> <td>94133   </td>\n",
       "        </tr>\n",
       "        <tr>\n",
       "            <td>898461 </td> <td>413     </td> <td>8/20/2015 13:34 </td> <td>Market at 4th                    </td> <td>76            </td> <td>8/20/2015 13:41 </td> <td>Post at Kearny                          </td> <td>47          </td> <td>313   </td> <td>Customer       </td> <td>14222   </td>\n",
       "        </tr>\n",
       "        <tr>\n",
       "            <td>552253 </td> <td>442     </td> <td>11/20/2014 10:50</td> <td>2nd at Folsom                    </td> <td>62            </td> <td>11/20/2014 10:57</td> <td>San Francisco Caltrain 2 (330 Townsend) </td> <td>69          </td> <td>353   </td> <td>Subscriber     </td> <td>94107   </td>\n",
       "        </tr>\n",
       "        <tr>\n",
       "            <td>667949 </td> <td>568     </td> <td>3/4/2015 17:31  </td> <td>San Jose Diridon Caltrain Station</td> <td>2             </td> <td>3/4/2015 17:40  </td> <td>Paseo de San Antonio                    </td> <td>7           </td> <td>691   </td> <td>Subscriber     </td> <td>95112   </td>\n",
       "        </tr>\n",
       "    </tbody>\n",
       "</table>\n",
       "<p>... (9990 rows omitted)</p>"
      ],
      "text/plain": [
       "Trip ID | Duration | Start Date       | Start Station                     | Start Terminal | End Date         | End Station                              | End Terminal | Bike # | Subscriber Type | Zip Code\n",
       "608033  | 280      | 1/16/2015 20:22  | Embarcadero at Bryant             | 54             | 1/16/2015 20:27  | Steuart at Market                        | 74           | 362    | Subscriber      | 94705\n",
       "661342  | 598      | 2/27/2015 15:58  | South Van Ness at Market          | 66             | 2/27/2015 16:08  | San Francisco Caltrain (Townsend at 4th) | 70           | 416    | Subscriber      | 95119\n",
       "571988  | 639      | 12/9/2014 17:12  | Market at Sansome                 | 77             | 12/9/2014 17:23  | San Francisco Caltrain (Townsend at 4th) | 70           | 484    | Subscriber      | 94010\n",
       "875617  | 725      | 8/4/2015 17:34   | South Van Ness at Market          | 66             | 8/4/2015 17:46   | Beale at Market                          | 56           | 569    | Subscriber      | 9611\n",
       "587393  | 759      | 12/29/2014 16:10 | Townsend at 7th                   | 65             | 12/29/2014 16:23 | Embarcadero at Bryant                    | 54           | 629    | Subscriber      | 94105\n",
       "721469  | 1774     | 4/11/2015 14:07  | Arena Green / SAP Center          | 14             | 4/11/2015 14:37  | Santa Clara County Civic Center          | 80           | 95     | Customer        | 95112\n",
       "467223  | 259      | 9/24/2014 8:36   | San Antonio Caltrain Station      | 29             | 9/24/2014 8:40   | San Antonio Shopping Center              | 31           | 183    | Subscriber      | 94133\n",
       "898461  | 413      | 8/20/2015 13:34  | Market at 4th                     | 76             | 8/20/2015 13:41  | Post at Kearny                           | 47           | 313    | Customer        | 14222\n",
       "552253  | 442      | 11/20/2014 10:50 | 2nd at Folsom                     | 62             | 11/20/2014 10:57 | San Francisco Caltrain 2 (330 Townsend)  | 69           | 353    | Subscriber      | 94107\n",
       "667949  | 568      | 3/4/2015 17:31   | San Jose Diridon Caltrain Station | 2              | 3/4/2015 17:40   | Paseo de San Antonio                     | 7            | 691    | Subscriber      | 95112\n",
       "... (9990 rows omitted)"
      ]
     },
     "execution_count": 14,
     "metadata": {},
     "output_type": "execute_result"
    }
   ],
   "source": [
    "not_nan = lambda x: not pd.isna(x)\n",
    "\n",
    "trips.where('End Terminal', not_nan)"
   ]
  },
  {
   "cell_type": "markdown",
   "metadata": {},
   "source": [
    "If we wanted to filter rows with missing values in _any_ column, we could iterate through the labels in `Table.labels`, using the `.where()` method to filter on each pass:"
   ]
  },
  {
   "cell_type": "code",
   "execution_count": 15,
   "metadata": {
    "scrolled": true
   },
   "outputs": [],
   "source": [
    "for label in trips.labels:\n",
    "    trips = trips.where(label, not_nan)"
   ]
  },
  {
   "cell_type": "markdown",
   "metadata": {},
   "source": [
    "### Descriptive Statistics\n",
    "\n",
    "In order to understand the distribution of your numerical data, it can be very useful to look at descriptive statistics of the values. The `datascience` library allows you to compute statistics on each column of your table, but it requires you to specify which operations you want to run and it does not filter out non-numerical columns.\n",
    "\n",
    "To use the `datascience` library to get descriptive statistics, use the `.stats()` method; this requires you to specify which statistics you want to use to aggregate each column, which you do by passing a list of functions as the `ops` argument."
   ]
  },
  {
   "cell_type": "code",
   "execution_count": 16,
   "metadata": {
    "scrolled": true
   },
   "outputs": [
    {
     "data": {
      "text/html": [
       "<table border=\"1\" class=\"dataframe\">\n",
       "    <thead>\n",
       "        <tr>\n",
       "            <th>statistic</th> <th>Trip ID</th> <th>Duration</th> <th>Start Date</th> <th>Start Station</th> <th>Start Terminal</th> <th>End Date</th> <th>End Station</th> <th>End Terminal</th> <th>Bike #</th> <th>Subscriber Type</th> <th>Zip Code</th>\n",
       "        </tr>\n",
       "    </thead>\n",
       "    <tbody>\n",
       "        <tr>\n",
       "            <td>min      </td> <td>432994 </td> <td>60      </td> <td>1/1/2015 0:56</td> <td>2nd at Folsom                                </td> <td>2             </td> <td>1/1/2015 10:07</td> <td>2nd at Folsom                                </td> <td>2           </td> <td>9      </td> <td>Customer       </td> <td>0       </td>\n",
       "        </tr>\n",
       "        <tr>\n",
       "            <td>max      </td> <td>913304 </td> <td>191136  </td> <td>9/9/2014 9:46</td> <td>Yerba Buena Center of the Arts (3rd @ Howard)</td> <td>84            </td> <td>9/9/2014 9:57 </td> <td>Yerba Buena Center of the Arts (3rd @ Howard)</td> <td>84          </td> <td>878    </td> <td>Subscriber     </td> <td>nil     </td>\n",
       "        </tr>\n",
       "        <tr>\n",
       "            <td>mean     </td> <td>677670 </td> <td>940.426 </td> <td>             </td> <td>                                             </td> <td>58.6538       </td> <td>              </td> <td>                                             </td> <td>58.6982     </td> <td>418.759</td> <td>               </td> <td>        </td>\n",
       "        </tr>\n",
       "        <tr>\n",
       "            <td>std      </td> <td>138969 </td> <td>4142.48 </td> <td>             </td> <td>                                             </td> <td>16.7676       </td> <td>              </td> <td>                                             </td> <td>16.9262     </td> <td>160.5  </td> <td>               </td> <td>        </td>\n",
       "        </tr>\n",
       "        <tr>\n",
       "            <td><lambda> </td> <td>557170 </td> <td>341     </td> <td>             </td> <td>                                             </td> <td>50            </td> <td>              </td> <td>                                             </td> <td>50          </td> <td>322    </td> <td>               </td> <td>        </td>\n",
       "        </tr>\n",
       "        <tr>\n",
       "            <td><lambda> </td> <td>797538 </td> <td>732     </td> <td>             </td> <td>                                             </td> <td>70            </td> <td>              </td> <td>                                             </td> <td>70          </td> <td>540    </td> <td>               </td> <td>        </td>\n",
       "        </tr>\n",
       "    </tbody>\n",
       "</table>"
      ],
      "text/plain": [
       "statistic | Trip ID | Duration | Start Date    | Start Station                                 | Start Terminal | End Date       | End Station                                   | End Terminal | Bike #  | Subscriber Type | Zip Code\n",
       "min       | 432994  | 60       | 1/1/2015 0:56 | 2nd at Folsom                                 | 2              | 1/1/2015 10:07 | 2nd at Folsom                                 | 2            | 9       | Customer        | 0\n",
       "max       | 913304  | 191136   | 9/9/2014 9:46 | Yerba Buena Center of the Arts (3rd @ Howard) | 84             | 9/9/2014 9:57  | Yerba Buena Center of the Arts (3rd @ Howard) | 84           | 878     | Subscriber      | nil\n",
       "mean      | 677670  | 940.426  |               |                                               | 58.6538        |                |                                               | 58.6982      | 418.759 |                 |\n",
       "std       | 138969  | 4142.48  |               |                                               | 16.7676        |                |                                               | 16.9262      | 160.5   |                 |\n",
       "<lambda>  | 557170  | 341      |               |                                               | 50             |                |                                               | 50           | 322     |                 |\n",
       "<lambda>  | 797538  | 732      |               |                                               | 70             |                |                                               | 70           | 540     |                 |"
      ]
     },
     "execution_count": 16,
     "metadata": {},
     "output_type": "execute_result"
    }
   ],
   "source": [
    "# datascience\n",
    "first_quartile = lambda x: np.quantile(x, 0.25)\n",
    "third_quartile = lambda x: np.quantile(x, 0.75)\n",
    "trips.stats(ops = [min, max, np.mean, np.std, first_quartile, third_quartile])"
   ]
  },
  {
   "cell_type": "markdown",
   "metadata": {},
   "source": [
    "The default behavior of the `.stats()` method is to show the minimum, maximum, median, and sum."
   ]
  },
  {
   "cell_type": "code",
   "execution_count": 17,
   "metadata": {
    "scrolled": true
   },
   "outputs": [
    {
     "data": {
      "text/html": [
       "<table border=\"1\" class=\"dataframe\">\n",
       "    <thead>\n",
       "        <tr>\n",
       "            <th>statistic</th> <th>Trip ID</th> <th>Duration</th> <th>Start Date</th> <th>Start Station</th> <th>Start Terminal</th> <th>End Date</th> <th>End Station</th> <th>End Terminal</th> <th>Bike #</th> <th>Subscriber Type</th> <th>Zip Code</th>\n",
       "        </tr>\n",
       "    </thead>\n",
       "    <tbody>\n",
       "        <tr>\n",
       "            <td>min      </td> <td>432994    </td> <td>60         </td> <td>1/1/2015 0:56</td> <td>2nd at Folsom                                </td> <td>2             </td> <td>1/1/2015 10:07</td> <td>2nd at Folsom                                </td> <td>2           </td> <td>9          </td> <td>Customer       </td> <td>0       </td>\n",
       "        </tr>\n",
       "        <tr>\n",
       "            <td>max      </td> <td>913304    </td> <td>191136     </td> <td>9/9/2014 9:46</td> <td>Yerba Buena Center of the Arts (3rd @ Howard)</td> <td>84            </td> <td>9/9/2014 9:57 </td> <td>Yerba Buena Center of the Arts (3rd @ Howard)</td> <td>84          </td> <td>878        </td> <td>Subscriber     </td> <td>nil     </td>\n",
       "        </tr>\n",
       "        <tr>\n",
       "            <td>median   </td> <td>680436    </td> <td>509        </td> <td>             </td> <td>                                             </td> <td>62            </td> <td>              </td> <td>                                             </td> <td>63          </td> <td>431        </td> <td>               </td> <td>        </td>\n",
       "        </tr>\n",
       "        <tr>\n",
       "            <td>sum      </td> <td>6.7767e+09</td> <td>9.40426e+06</td> <td>             </td> <td>                                             </td> <td>586538        </td> <td>              </td> <td>                                             </td> <td>586982      </td> <td>4.18759e+06</td> <td>               </td> <td>        </td>\n",
       "        </tr>\n",
       "    </tbody>\n",
       "</table>"
      ],
      "text/plain": [
       "statistic | Trip ID    | Duration    | Start Date    | Start Station                                 | Start Terminal | End Date       | End Station                                   | End Terminal | Bike #      | Subscriber Type | Zip Code\n",
       "min       | 432994     | 60          | 1/1/2015 0:56 | 2nd at Folsom                                 | 2              | 1/1/2015 10:07 | 2nd at Folsom                                 | 2            | 9           | Customer        | 0\n",
       "max       | 913304     | 191136      | 9/9/2014 9:46 | Yerba Buena Center of the Arts (3rd @ Howard) | 84             | 9/9/2014 9:57  | Yerba Buena Center of the Arts (3rd @ Howard) | 84           | 878         | Subscriber      | nil\n",
       "median    | 680436     | 509         |               |                                               | 62             |                |                                               | 63           | 431         |                 |\n",
       "sum       | 6.7767e+09 | 9.40426e+06 |               |                                               | 586538         |                |                                               | 586982       | 4.18759e+06 |                 |"
      ]
     },
     "execution_count": 17,
     "metadata": {},
     "output_type": "execute_result"
    }
   ],
   "source": [
    "trips.stats()"
   ]
  },
  {
   "cell_type": "markdown",
   "metadata": {},
   "source": [
    "### Grouping\n",
    "\n",
    "In the `datascience` library, you can group by a column with the `.group()` method; this defaults to counts, but you can pass an optional second argument with an aggregator function."
   ]
  },
  {
   "cell_type": "code",
   "execution_count": 18,
   "metadata": {
    "scrolled": true
   },
   "outputs": [
    {
     "data": {
      "text/html": [
       "<table border=\"1\" class=\"dataframe\">\n",
       "    <thead>\n",
       "        <tr>\n",
       "            <th>Start Station</th> <th>count</th>\n",
       "        </tr>\n",
       "    </thead>\n",
       "    <tbody>\n",
       "        <tr>\n",
       "            <td>2nd at Folsom                   </td> <td>223  </td>\n",
       "        </tr>\n",
       "        <tr>\n",
       "            <td>2nd at South Park               </td> <td>274  </td>\n",
       "        </tr>\n",
       "        <tr>\n",
       "            <td>2nd at Townsend                 </td> <td>425  </td>\n",
       "        </tr>\n",
       "        <tr>\n",
       "            <td>5th at Howard                   </td> <td>229  </td>\n",
       "        </tr>\n",
       "        <tr>\n",
       "            <td>Adobe on Almaden                </td> <td>12   </td>\n",
       "        </tr>\n",
       "        <tr>\n",
       "            <td>Arena Green / SAP Center        </td> <td>19   </td>\n",
       "        </tr>\n",
       "        <tr>\n",
       "            <td>Beale at Market                 </td> <td>207  </td>\n",
       "        </tr>\n",
       "        <tr>\n",
       "            <td>Broadway St at Battery St       </td> <td>262  </td>\n",
       "        </tr>\n",
       "        <tr>\n",
       "            <td>California Ave Caltrain Station </td> <td>8    </td>\n",
       "        </tr>\n",
       "        <tr>\n",
       "            <td>Castro Street and El Camino Real</td> <td>32   </td>\n",
       "        </tr>\n",
       "    </tbody>\n",
       "</table>\n",
       "<p>... (59 rows omitted)</p>"
      ],
      "text/plain": [
       "Start Station                    | count\n",
       "2nd at Folsom                    | 223\n",
       "2nd at South Park                | 274\n",
       "2nd at Townsend                  | 425\n",
       "5th at Howard                    | 229\n",
       "Adobe on Almaden                 | 12\n",
       "Arena Green / SAP Center         | 19\n",
       "Beale at Market                  | 207\n",
       "Broadway St at Battery St        | 262\n",
       "California Ave Caltrain Station  | 8\n",
       "Castro Street and El Camino Real | 32\n",
       "... (59 rows omitted)"
      ]
     },
     "execution_count": 18,
     "metadata": {},
     "output_type": "execute_result"
    }
   ],
   "source": [
    "trips.group('Start Station')"
   ]
  },
  {
   "cell_type": "markdown",
   "metadata": {},
   "source": [
    "When you pass an aggregator function, each column is aggregated by that function in the specified groups. This means that the new table will have the same number of columns as the original, unlike the call _without_ an aggregator function. As an example of an aggregator function, we could pass `np.median()`."
   ]
  },
  {
   "cell_type": "code",
   "execution_count": 19,
   "metadata": {
    "scrolled": true
   },
   "outputs": [
    {
     "data": {
      "text/html": [
       "<table border=\"1\" class=\"dataframe\">\n",
       "    <thead>\n",
       "        <tr>\n",
       "            <th>Start Station</th> <th>Trip ID median</th> <th>Duration median</th> <th>Start Date median</th> <th>Start Terminal median</th> <th>End Date median</th> <th>End Station median</th> <th>End Terminal median</th> <th>Bike # median</th> <th>Subscriber Type median</th> <th>Zip Code median</th>\n",
       "        </tr>\n",
       "    </thead>\n",
       "    <tbody>\n",
       "        <tr>\n",
       "            <td>2nd at Folsom                   </td> <td>679189        </td> <td>350            </td> <td>                 </td> <td>62                   </td> <td>               </td> <td>                  </td> <td>64                 </td> <td>432          </td> <td>                      </td> <td>               </td>\n",
       "        </tr>\n",
       "        <tr>\n",
       "            <td>2nd at South Park               </td> <td>646924        </td> <td>461.5          </td> <td>                 </td> <td>64                   </td> <td>               </td> <td>                  </td> <td>69                 </td> <td>472          </td> <td>                      </td> <td>               </td>\n",
       "        </tr>\n",
       "        <tr>\n",
       "            <td>2nd at Townsend                 </td> <td>684031        </td> <td>494            </td> <td>                 </td> <td>61                   </td> <td>               </td> <td>                  </td> <td>62                 </td> <td>459          </td> <td>                      </td> <td>               </td>\n",
       "        </tr>\n",
       "        <tr>\n",
       "            <td>5th at Howard                   </td> <td>682656        </td> <td>432            </td> <td>                 </td> <td>57                   </td> <td>               </td> <td>                  </td> <td>69                 </td> <td>427          </td> <td>                      </td> <td>               </td>\n",
       "        </tr>\n",
       "        <tr>\n",
       "            <td>Adobe on Almaden                </td> <td>733113        </td> <td>318.5          </td> <td>                 </td> <td>5                    </td> <td>               </td> <td>                  </td> <td>2                  </td> <td>190          </td> <td>                      </td> <td>               </td>\n",
       "        </tr>\n",
       "        <tr>\n",
       "            <td>Arena Green / SAP Center        </td> <td>652739        </td> <td>241            </td> <td>                 </td> <td>14                   </td> <td>               </td> <td>                  </td> <td>4                  </td> <td>155          </td> <td>                      </td> <td>               </td>\n",
       "        </tr>\n",
       "        <tr>\n",
       "            <td>Beale at Market                 </td> <td>657981        </td> <td>398            </td> <td>                 </td> <td>56                   </td> <td>               </td> <td>                  </td> <td>64                 </td> <td>462          </td> <td>                      </td> <td>               </td>\n",
       "        </tr>\n",
       "        <tr>\n",
       "            <td>Broadway St at Battery St       </td> <td>668128        </td> <td>461.5          </td> <td>                 </td> <td>82                   </td> <td>               </td> <td>                  </td> <td>69                 </td> <td>464.5        </td> <td>                      </td> <td>               </td>\n",
       "        </tr>\n",
       "        <tr>\n",
       "            <td>California Ave Caltrain Station </td> <td>835619        </td> <td>1228           </td> <td>                 </td> <td>36                   </td> <td>               </td> <td>                  </td> <td>35                 </td> <td>190          </td> <td>                      </td> <td>               </td>\n",
       "        </tr>\n",
       "        <tr>\n",
       "            <td>Castro Street and El Camino Real</td> <td>726996        </td> <td>324            </td> <td>                 </td> <td>32                   </td> <td>               </td> <td>                  </td> <td>28                 </td> <td>177          </td> <td>                      </td> <td>               </td>\n",
       "        </tr>\n",
       "    </tbody>\n",
       "</table>\n",
       "<p>... (59 rows omitted)</p>"
      ],
      "text/plain": [
       "Start Station                    | Trip ID median | Duration median | Start Date median | Start Terminal median | End Date median | End Station median | End Terminal median | Bike # median | Subscriber Type median | Zip Code median\n",
       "2nd at Folsom                    | 679189         | 350             |                   | 62                    |                 |                    | 64                  | 432           |                        |\n",
       "2nd at South Park                | 646924         | 461.5           |                   | 64                    |                 |                    | 69                  | 472           |                        |\n",
       "2nd at Townsend                  | 684031         | 494             |                   | 61                    |                 |                    | 62                  | 459           |                        |\n",
       "5th at Howard                    | 682656         | 432             |                   | 57                    |                 |                    | 69                  | 427           |                        |\n",
       "Adobe on Almaden                 | 733113         | 318.5           |                   | 5                     |                 |                    | 2                   | 190           |                        |\n",
       "Arena Green / SAP Center         | 652739         | 241             |                   | 14                    |                 |                    | 4                   | 155           |                        |\n",
       "Beale at Market                  | 657981         | 398             |                   | 56                    |                 |                    | 64                  | 462           |                        |\n",
       "Broadway St at Battery St        | 668128         | 461.5           |                   | 82                    |                 |                    | 69                  | 464.5         |                        |\n",
       "California Ave Caltrain Station  | 835619         | 1228            |                   | 36                    |                 |                    | 35                  | 190           |                        |\n",
       "Castro Street and El Camino Real | 726996         | 324             |                   | 32                    |                 |                    | 28                  | 177           |                        |\n",
       "... (59 rows omitted)"
      ]
     },
     "execution_count": 19,
     "metadata": {},
     "output_type": "execute_result"
    }
   ],
   "source": [
    "trips.group(\"Start Station\", np.median)"
   ]
  },
  {
   "cell_type": "markdown",
   "metadata": {},
   "source": [
    "To create a pivot table, use the `.pivot()` method. The first argument indicates the column labels, the second the rows, and the third the values that go into each entry. If there are more than one value to go into the cells, it is also possible to pass an aggregator function. The cell below shows a table where each column is a starting station, each row is an ending station, and each value is the mean of the durations for that starting and ending station pair."
   ]
  },
  {
   "cell_type": "code",
   "execution_count": 20,
   "metadata": {
    "scrolled": true
   },
   "outputs": [
    {
     "data": {
      "text/html": [
       "<table border=\"1\" class=\"dataframe\">\n",
       "    <thead>\n",
       "        <tr>\n",
       "            <th>End Station</th> <th>2nd at Folsom</th> <th>2nd at South Park</th> <th>2nd at Townsend</th> <th>5th at Howard</th> <th>Adobe on Almaden</th> <th>Arena Green / SAP Center</th> <th>Beale at Market</th> <th>Broadway St at Battery St</th> <th>California Ave Caltrain Station</th> <th>Castro Street and El Camino Real</th> <th>Civic Center BART (7th at Market)</th> <th>Clay at Battery</th> <th>Commercial at Montgomery</th> <th>Cowper at University</th> <th>Davis at Jackson</th> <th>Embarcadero at Bryant</th> <th>Embarcadero at Folsom</th> <th>Embarcadero at Sansome</th> <th>Embarcadero at Vallejo</th> <th>Evelyn Park and Ride</th> <th>Golden Gate at Polk</th> <th>Grant Avenue at Columbus Avenue</th> <th>Harry Bridges Plaza (Ferry Building)</th> <th>Howard at 2nd</th> <th>Japantown</th> <th>MLK Library</th> <th>Market at 10th</th> <th>Market at 4th</th> <th>Market at Sansome</th> <th>Mechanics Plaza (Market at Battery)</th> <th>Mezes Park</th> <th>Mountain View Caltrain Station</th> <th>Mountain View City Hall</th> <th>Palo Alto Caltrain Station</th> <th>Park at Olive</th> <th>Paseo de San Antonio</th> <th>Post at Kearny</th> <th>Powell Street BART</th> <th>Powell at Post (Union Square)</th> <th>Redwood City Caltrain Station</th> <th>Redwood City Medical Center</th> <th>Redwood City Public Library</th> <th>Rengstorff Avenue / California Street</th> <th>Ryland Park</th> <th>SJSU - San Salvador at 9th</th> <th>SJSU 4th at San Carlos</th> <th>San Antonio Caltrain Station</th> <th>San Antonio Shopping Center</th> <th>San Francisco Caltrain (Townsend at 4th)</th> <th>San Francisco Caltrain 2 (330 Townsend)</th> <th>San Francisco City Hall</th> <th>San Jose City Hall</th> <th>San Jose Civic Center</th> <th>San Jose Diridon Caltrain Station</th> <th>San Mateo County Center</th> <th>San Pedro Square</th> <th>San Salvador at 1st</th> <th>Santa Clara County Civic Center</th> <th>Santa Clara at Almaden</th> <th>South Van Ness at Market</th> <th>Spear at Folsom</th> <th>St James Park</th> <th>Stanford in Redwood City</th> <th>Steuart at Market</th> <th>Temporary Transbay Terminal (Howard at Beale)</th> <th>Townsend at 7th</th> <th>University and Emerson</th> <th>Washington at Kearny</th> <th>Yerba Buena Center of the Arts (3rd @ Howard)</th>\n",
       "        </tr>\n",
       "    </thead>\n",
       "    <tbody>\n",
       "        <tr>\n",
       "            <td>2nd at Folsom                   </td> <td>3329.5       </td> <td>209.25           </td> <td>319.944        </td> <td>441          </td> <td>0               </td> <td>0                       </td> <td>283            </td> <td>0                        </td> <td>0                              </td> <td>0                               </td> <td>741                              </td> <td>562            </td> <td>474                     </td> <td>0                   </td> <td>9848            </td> <td>356.5                </td> <td>342                  </td> <td>0                     </td> <td>731                   </td> <td>0                   </td> <td>0                  </td> <td>685                            </td> <td>480.273                             </td> <td>127.5        </td> <td>0        </td> <td>0          </td> <td>837.75        </td> <td>346.667      </td> <td>265.667          </td> <td>320                                </td> <td>0         </td> <td>0                             </td> <td>0                      </td> <td>0                         </td> <td>0            </td> <td>0                   </td> <td>246.5         </td> <td>1209              </td> <td>382                          </td> <td>0                            </td> <td>0                          </td> <td>0                          </td> <td>0                                    </td> <td>0          </td> <td>0                         </td> <td>0                     </td> <td>0                           </td> <td>0                          </td> <td>464.68                                  </td> <td>496                                    </td> <td>0                      </td> <td>0                 </td> <td>0                    </td> <td>0                                </td> <td>0                      </td> <td>0               </td> <td>0                  </td> <td>0                              </td> <td>0                     </td> <td>0                       </td> <td>491.5          </td> <td>0            </td> <td>0                       </td> <td>533              </td> <td>329.4                                        </td> <td>644            </td> <td>0                     </td> <td>0                   </td> <td>0                                            </td>\n",
       "        </tr>\n",
       "        <tr>\n",
       "            <td>2nd at South Park               </td> <td>156.333      </td> <td>1397.43          </td> <td>150            </td> <td>522.111      </td> <td>0               </td> <td>0                       </td> <td>467.25         </td> <td>631.25                   </td> <td>0                              </td> <td>0                               </td> <td>847.333                          </td> <td>487            </td> <td>780.833                 </td> <td>0                   </td> <td>679             </td> <td>0                    </td> <td>613.4                </td> <td>1119                  </td> <td>1006.5                </td> <td>0                   </td> <td>543.5              </td> <td>860.5                          </td> <td>496.111                             </td> <td>220.529      </td> <td>0        </td> <td>0          </td> <td>990           </td> <td>569.375      </td> <td>320.6            </td> <td>303                                </td> <td>0         </td> <td>0                             </td> <td>0                      </td> <td>0                         </td> <td>0            </td> <td>0                   </td> <td>378.25        </td> <td>530.5             </td> <td>324.5                        </td> <td>0                            </td> <td>0                          </td> <td>0                          </td> <td>0                                    </td> <td>0          </td> <td>0                         </td> <td>0                     </td> <td>0                           </td> <td>0                          </td> <td>266.455                                 </td> <td>492.615                                </td> <td>801                    </td> <td>0                 </td> <td>0                    </td> <td>0                                </td> <td>0                      </td> <td>0               </td> <td>0                  </td> <td>0                              </td> <td>0                     </td> <td>844.333                 </td> <td>362            </td> <td>0            </td> <td>0                       </td> <td>433.625          </td> <td>379.867                                      </td> <td>546.667        </td> <td>0                     </td> <td>764                 </td> <td>337.8                                        </td>\n",
       "        </tr>\n",
       "        <tr>\n",
       "            <td>2nd at Townsend                 </td> <td>280.25       </td> <td>272              </td> <td>1602.67        </td> <td>0            </td> <td>0               </td> <td>0                       </td> <td>441            </td> <td>726.182                  </td> <td>0                              </td> <td>0                               </td> <td>0                                </td> <td>812            </td> <td>887                     </td> <td>0                   </td> <td>675.818         </td> <td>353.75               </td> <td>373.438              </td> <td>897.692               </td> <td>906.5                 </td> <td>0                   </td> <td>1203               </td> <td>958.429                        </td> <td>612.3                               </td> <td>329.3        </td> <td>0        </td> <td>0          </td> <td>916           </td> <td>822.167      </td> <td>478.348          </td> <td>737.4                              </td> <td>0         </td> <td>0                             </td> <td>0                      </td> <td>0                         </td> <td>0            </td> <td>0                   </td> <td>604.8         </td> <td>888.5             </td> <td>945.333                      </td> <td>0                            </td> <td>0                          </td> <td>0                          </td> <td>0                                    </td> <td>0          </td> <td>0                         </td> <td>0                     </td> <td>0                           </td> <td>0                          </td> <td>230.75                                  </td> <td>242                                    </td> <td>1007                   </td> <td>0                 </td> <td>0                    </td> <td>0                                </td> <td>0                      </td> <td>0               </td> <td>0                  </td> <td>0                              </td> <td>0                     </td> <td>1498.75                 </td> <td>427.364        </td> <td>0            </td> <td>0                       </td> <td>554.879          </td> <td>377.7                                        </td> <td>482.889        </td> <td>0                     </td> <td>811                 </td> <td>897                                          </td>\n",
       "        </tr>\n",
       "        <tr>\n",
       "            <td>5th at Howard                   </td> <td>511.8        </td> <td>1229             </td> <td>648.111        </td> <td>4216.2       </td> <td>0               </td> <td>0                       </td> <td>419            </td> <td>888.167                  </td> <td>0                              </td> <td>0                               </td> <td>555.5                            </td> <td>606            </td> <td>4048.5                  </td> <td>0                   </td> <td>0               </td> <td>0                    </td> <td>497.5                </td> <td>1141.67               </td> <td>861.25                </td> <td>0                   </td> <td>590.333            </td> <td>853.2                          </td> <td>649.667                             </td> <td>241.133      </td> <td>0        </td> <td>0          </td> <td>413.333       </td> <td>5404.88      </td> <td>2245.6           </td> <td>570                                </td> <td>0         </td> <td>0                             </td> <td>0                      </td> <td>0                         </td> <td>0            </td> <td>0                   </td> <td>395.333       </td> <td>2291.5            </td> <td>311.125                      </td> <td>0                            </td> <td>0                          </td> <td>0                          </td> <td>0                                    </td> <td>0          </td> <td>0                         </td> <td>0                     </td> <td>0                           </td> <td>0                          </td> <td>492.917                                 </td> <td>388.907                                </td> <td>691.6                  </td> <td>0                 </td> <td>0                    </td> <td>0                                </td> <td>0                      </td> <td>0               </td> <td>0                  </td> <td>0                              </td> <td>0                     </td> <td>499.333                 </td> <td>529.2          </td> <td>0            </td> <td>0                       </td> <td>661              </td> <td>462.727                                      </td> <td>491            </td> <td>0                     </td> <td>0                   </td> <td>14252.1                                      </td>\n",
       "        </tr>\n",
       "        <tr>\n",
       "            <td>Adobe on Almaden                </td> <td>0            </td> <td>0                </td> <td>0              </td> <td>0            </td> <td>0               </td> <td>0                       </td> <td>0              </td> <td>0                        </td> <td>0                              </td> <td>0                               </td> <td>0                                </td> <td>0              </td> <td>0                       </td> <td>0                   </td> <td>0               </td> <td>0                    </td> <td>0                    </td> <td>0                     </td> <td>0                     </td> <td>0                   </td> <td>0                  </td> <td>0                              </td> <td>0                                   </td> <td>0            </td> <td>0        </td> <td>0          </td> <td>0             </td> <td>0            </td> <td>0                </td> <td>0                                  </td> <td>0         </td> <td>0                             </td> <td>0                      </td> <td>0                         </td> <td>0            </td> <td>314.5               </td> <td>0             </td> <td>0                 </td> <td>0                            </td> <td>0                            </td> <td>0                          </td> <td>0                          </td> <td>0                                    </td> <td>0          </td> <td>0                         </td> <td>545                   </td> <td>0                           </td> <td>0                          </td> <td>0                                       </td> <td>0                                      </td> <td>0                      </td> <td>683.667           </td> <td>0                    </td> <td>268.182                          </td> <td>0                      </td> <td>0               </td> <td>0                  </td> <td>0                              </td> <td>0                     </td> <td>0                       </td> <td>0              </td> <td>0            </td> <td>0                       </td> <td>0                </td> <td>0                                            </td> <td>0              </td> <td>0                     </td> <td>0                   </td> <td>0                                            </td>\n",
       "        </tr>\n",
       "        <tr>\n",
       "            <td>Arena Green / SAP Center        </td> <td>0            </td> <td>0                </td> <td>0              </td> <td>0            </td> <td>318.5           </td> <td>1883.75                 </td> <td>0              </td> <td>0                        </td> <td>0                              </td> <td>0                               </td> <td>0                                </td> <td>0              </td> <td>0                       </td> <td>0                   </td> <td>0               </td> <td>0                    </td> <td>0                    </td> <td>0                     </td> <td>0                     </td> <td>0                   </td> <td>0                  </td> <td>0                              </td> <td>0                                   </td> <td>0            </td> <td>994.5    </td> <td>0          </td> <td>0             </td> <td>0            </td> <td>0                </td> <td>0                                  </td> <td>0         </td> <td>0                             </td> <td>0                      </td> <td>0                         </td> <td>0            </td> <td>7464                </td> <td>0             </td> <td>0                 </td> <td>0                            </td> <td>0                            </td> <td>0                          </td> <td>0                          </td> <td>0                                    </td> <td>749        </td> <td>0                         </td> <td>0                     </td> <td>0                           </td> <td>0                          </td> <td>0                                       </td> <td>0                                      </td> <td>0                      </td> <td>0                 </td> <td>0                    </td> <td>0                                </td> <td>0                      </td> <td>166             </td> <td>0                  </td> <td>1171.25                        </td> <td>207.667               </td> <td>0                       </td> <td>0              </td> <td>0            </td> <td>0                       </td> <td>0                </td> <td>0                                            </td> <td>0              </td> <td>0                     </td> <td>0                   </td> <td>0                                            </td>\n",
       "        </tr>\n",
       "        <tr>\n",
       "            <td>Beale at Market                 </td> <td>338          </td> <td>0                </td> <td>671.75         </td> <td>612          </td> <td>0               </td> <td>0                       </td> <td>14758.5        </td> <td>294.857                  </td> <td>0                              </td> <td>0                               </td> <td>601                              </td> <td>195            </td> <td>278.5                   </td> <td>0                   </td> <td>214.7           </td> <td>362.6                </td> <td>247                  </td> <td>490.222               </td> <td>259                   </td> <td>0                   </td> <td>1159               </td> <td>418.857                        </td> <td>452                                 </td> <td>622          </td> <td>0        </td> <td>0          </td> <td>682.778       </td> <td>373.889      </td> <td>1907.5           </td> <td>4580                               </td> <td>0         </td> <td>0                             </td> <td>0                      </td> <td>0                         </td> <td>0            </td> <td>0                   </td> <td>259           </td> <td>419.667           </td> <td>358.571                      </td> <td>0                            </td> <td>0                          </td> <td>0                          </td> <td>0                                    </td> <td>0          </td> <td>0                         </td> <td>0                     </td> <td>0                           </td> <td>0                          </td> <td>730.333                                 </td> <td>696.111                                </td> <td>760                    </td> <td>0                 </td> <td>0                    </td> <td>0                                </td> <td>0                      </td> <td>0               </td> <td>0                  </td> <td>0                              </td> <td>0                     </td> <td>884.143                 </td> <td>391            </td> <td>0            </td> <td>0                       </td> <td>0                </td> <td>188.571                                      </td> <td>0              </td> <td>0                     </td> <td>540                 </td> <td>600.75                                       </td>\n",
       "        </tr>\n",
       "        <tr>\n",
       "            <td>Broadway St at Battery St       </td> <td>726          </td> <td>702              </td> <td>673.353        </td> <td>830.333      </td> <td>0               </td> <td>0                       </td> <td>327.125        </td> <td>891.286                  </td> <td>0                              </td> <td>0                               </td> <td>828                              </td> <td>190            </td> <td>219.429                 </td> <td>0                   </td> <td>450.833         </td> <td>1039                 </td> <td>587.6                </td> <td>418.778               </td> <td>322                   </td> <td>0                   </td> <td>0                  </td> <td>190                            </td> <td>456.625                             </td> <td>498          </td> <td>0        </td> <td>0          </td> <td>1167          </td> <td>559.333      </td> <td>663              </td> <td>328.5                              </td> <td>0         </td> <td>0                             </td> <td>0                      </td> <td>0                         </td> <td>0            </td> <td>0                   </td> <td>583.667       </td> <td>776.4             </td> <td>554.167                      </td> <td>0                            </td> <td>0                          </td> <td>0                          </td> <td>0                                    </td> <td>0          </td> <td>0                         </td> <td>0                     </td> <td>0                           </td> <td>0                          </td> <td>906.2                                   </td> <td>890.625                                </td> <td>15413                  </td> <td>0                 </td> <td>0                    </td> <td>0                                </td> <td>0                      </td> <td>0               </td> <td>0                  </td> <td>0                              </td> <td>0                     </td> <td>951.5                   </td> <td>422            </td> <td>0            </td> <td>0                       </td> <td>361.75           </td> <td>447.125                                      </td> <td>1421.5         </td> <td>0                     </td> <td>252.5               </td> <td>1534                                         </td>\n",
       "        </tr>\n",
       "        <tr>\n",
       "            <td>California Ave Caltrain Station </td> <td>0            </td> <td>0                </td> <td>0              </td> <td>0            </td> <td>0               </td> <td>0                       </td> <td>0              </td> <td>0                        </td> <td>0                              </td> <td>0                               </td> <td>0                                </td> <td>0              </td> <td>0                       </td> <td>914.5               </td> <td>0               </td> <td>0                    </td> <td>0                    </td> <td>0                     </td> <td>0                     </td> <td>0                   </td> <td>0                  </td> <td>0                              </td> <td>0                                   </td> <td>0            </td> <td>0        </td> <td>0          </td> <td>0             </td> <td>0            </td> <td>0                </td> <td>0                                  </td> <td>0         </td> <td>0                             </td> <td>0                      </td> <td>1508.75                   </td> <td>2429.67      </td> <td>0                   </td> <td>0             </td> <td>0                 </td> <td>0                            </td> <td>0                            </td> <td>0                          </td> <td>0                          </td> <td>0                                    </td> <td>0          </td> <td>0                         </td> <td>0                     </td> <td>0                           </td> <td>0                          </td> <td>0                                       </td> <td>0                                      </td> <td>0                      </td> <td>0                 </td> <td>0                    </td> <td>0                                </td> <td>0                      </td> <td>0               </td> <td>0                  </td> <td>0                              </td> <td>0                     </td> <td>0                       </td> <td>0              </td> <td>0            </td> <td>0                       </td> <td>0                </td> <td>0                                            </td> <td>0              </td> <td>802                   </td> <td>0                   </td> <td>0                                            </td>\n",
       "        </tr>\n",
       "        <tr>\n",
       "            <td>Castro Street and El Camino Real</td> <td>0            </td> <td>0                </td> <td>0              </td> <td>0            </td> <td>0               </td> <td>0                       </td> <td>0              </td> <td>0                        </td> <td>0                              </td> <td>2220                            </td> <td>0                                </td> <td>0              </td> <td>0                       </td> <td>0                   </td> <td>0               </td> <td>0                    </td> <td>0                    </td> <td>0                     </td> <td>0                     </td> <td>1279                </td> <td>0                  </td> <td>0                              </td> <td>0                                   </td> <td>0            </td> <td>0        </td> <td>0          </td> <td>0             </td> <td>0            </td> <td>0                </td> <td>0                                  </td> <td>0         </td> <td>352.862                       </td> <td>348                    </td> <td>0                         </td> <td>0            </td> <td>0                   </td> <td>0             </td> <td>0                 </td> <td>0                            </td> <td>0                            </td> <td>0                          </td> <td>0                          </td> <td>763                                  </td> <td>0          </td> <td>0                         </td> <td>0                     </td> <td>953                         </td> <td>1730                       </td> <td>0                                       </td> <td>0                                      </td> <td>0                      </td> <td>0                 </td> <td>0                    </td> <td>0                                </td> <td>0                      </td> <td>0               </td> <td>0                  </td> <td>0                              </td> <td>0                     </td> <td>0                       </td> <td>0              </td> <td>0            </td> <td>0                       </td> <td>0                </td> <td>0                                            </td> <td>0              </td> <td>0                     </td> <td>0                   </td> <td>0                                            </td>\n",
       "        </tr>\n",
       "    </tbody>\n",
       "</table>\n",
       "<p>... (60 rows omitted)</p>"
      ],
      "text/plain": [
       "End Station                      | 2nd at Folsom | 2nd at South Park | 2nd at Townsend | 5th at Howard | Adobe on Almaden | Arena Green / SAP Center | Beale at Market | Broadway St at Battery St | California Ave Caltrain Station | Castro Street and El Camino Real | Civic Center BART (7th at Market) | Clay at Battery | Commercial at Montgomery | Cowper at University | Davis at Jackson | Embarcadero at Bryant | Embarcadero at Folsom | Embarcadero at Sansome | Embarcadero at Vallejo | Evelyn Park and Ride | Golden Gate at Polk | Grant Avenue at Columbus Avenue | Harry Bridges Plaza (Ferry Building) | Howard at 2nd | Japantown | MLK Library | Market at 10th | Market at 4th | Market at Sansome | Mechanics Plaza (Market at Battery) | Mezes Park | Mountain View Caltrain Station | Mountain View City Hall | Palo Alto Caltrain Station | Park at Olive | Paseo de San Antonio | Post at Kearny | Powell Street BART | Powell at Post (Union Square) | Redwood City Caltrain Station | Redwood City Medical Center | Redwood City Public Library | Rengstorff Avenue / California Street | Ryland Park | SJSU - San Salvador at 9th | SJSU 4th at San Carlos | San Antonio Caltrain Station | San Antonio Shopping Center | San Francisco Caltrain (Townsend at 4th) | San Francisco Caltrain 2 (330 Townsend) | San Francisco City Hall | San Jose City Hall | San Jose Civic Center | San Jose Diridon Caltrain Station | San Mateo County Center | San Pedro Square | San Salvador at 1st | Santa Clara County Civic Center | Santa Clara at Almaden | South Van Ness at Market | Spear at Folsom | St James Park | Stanford in Redwood City | Steuart at Market | Temporary Transbay Terminal (Howard at Beale) | Townsend at 7th | University and Emerson | Washington at Kearny | Yerba Buena Center of the Arts (3rd @ Howard)\n",
       "2nd at Folsom                    | 3329.5        | 209.25            | 319.944         | 441           | 0                | 0                        | 283             | 0                         | 0                               | 0                                | 741                               | 562             | 474                      | 0                    | 9848             | 356.5                 | 342                   | 0                      | 731                    | 0                    | 0                   | 685                             | 480.273                              | 127.5         | 0         | 0           | 837.75         | 346.667       | 265.667           | 320                                 | 0          | 0                              | 0                       | 0                          | 0             | 0                    | 246.5          | 1209               | 382                           | 0                             | 0                           | 0                           | 0                                     | 0           | 0                          | 0                      | 0                            | 0                           | 464.68                                   | 496                                     | 0                       | 0                  | 0                     | 0                                 | 0                       | 0                | 0                   | 0                               | 0                      | 0                        | 491.5           | 0             | 0                        | 533               | 329.4                                         | 644             | 0                      | 0                    | 0\n",
       "2nd at South Park                | 156.333       | 1397.43           | 150             | 522.111       | 0                | 0                        | 467.25          | 631.25                    | 0                               | 0                                | 847.333                           | 487             | 780.833                  | 0                    | 679              | 0                     | 613.4                 | 1119                   | 1006.5                 | 0                    | 543.5               | 860.5                           | 496.111                              | 220.529       | 0         | 0           | 990            | 569.375       | 320.6             | 303                                 | 0          | 0                              | 0                       | 0                          | 0             | 0                    | 378.25         | 530.5              | 324.5                         | 0                             | 0                           | 0                           | 0                                     | 0           | 0                          | 0                      | 0                            | 0                           | 266.455                                  | 492.615                                 | 801                     | 0                  | 0                     | 0                                 | 0                       | 0                | 0                   | 0                               | 0                      | 844.333                  | 362             | 0             | 0                        | 433.625           | 379.867                                       | 546.667         | 0                      | 764                  | 337.8\n",
       "2nd at Townsend                  | 280.25        | 272               | 1602.67         | 0             | 0                | 0                        | 441             | 726.182                   | 0                               | 0                                | 0                                 | 812             | 887                      | 0                    | 675.818          | 353.75                | 373.438               | 897.692                | 906.5                  | 0                    | 1203                | 958.429                         | 612.3                                | 329.3         | 0         | 0           | 916            | 822.167       | 478.348           | 737.4                               | 0          | 0                              | 0                       | 0                          | 0             | 0                    | 604.8          | 888.5              | 945.333                       | 0                             | 0                           | 0                           | 0                                     | 0           | 0                          | 0                      | 0                            | 0                           | 230.75                                   | 242                                     | 1007                    | 0                  | 0                     | 0                                 | 0                       | 0                | 0                   | 0                               | 0                      | 1498.75                  | 427.364         | 0             | 0                        | 554.879           | 377.7                                         | 482.889         | 0                      | 811                  | 897\n",
       "5th at Howard                    | 511.8         | 1229              | 648.111         | 4216.2        | 0                | 0                        | 419             | 888.167                   | 0                               | 0                                | 555.5                             | 606             | 4048.5                   | 0                    | 0                | 0                     | 497.5                 | 1141.67                | 861.25                 | 0                    | 590.333             | 853.2                           | 649.667                              | 241.133       | 0         | 0           | 413.333        | 5404.88       | 2245.6            | 570                                 | 0          | 0                              | 0                       | 0                          | 0             | 0                    | 395.333        | 2291.5             | 311.125                       | 0                             | 0                           | 0                           | 0                                     | 0           | 0                          | 0                      | 0                            | 0                           | 492.917                                  | 388.907                                 | 691.6                   | 0                  | 0                     | 0                                 | 0                       | 0                | 0                   | 0                               | 0                      | 499.333                  | 529.2           | 0             | 0                        | 661               | 462.727                                       | 491             | 0                      | 0                    | 14252.1\n",
       "Adobe on Almaden                 | 0             | 0                 | 0               | 0             | 0                | 0                        | 0               | 0                         | 0                               | 0                                | 0                                 | 0               | 0                        | 0                    | 0                | 0                     | 0                     | 0                      | 0                      | 0                    | 0                   | 0                               | 0                                    | 0             | 0         | 0           | 0              | 0             | 0                 | 0                                   | 0          | 0                              | 0                       | 0                          | 0             | 314.5                | 0              | 0                  | 0                             | 0                             | 0                           | 0                           | 0                                     | 0           | 0                          | 545                    | 0                            | 0                           | 0                                        | 0                                       | 0                       | 683.667            | 0                     | 268.182                           | 0                       | 0                | 0                   | 0                               | 0                      | 0                        | 0               | 0             | 0                        | 0                 | 0                                             | 0               | 0                      | 0                    | 0\n",
       "Arena Green / SAP Center         | 0             | 0                 | 0               | 0             | 318.5            | 1883.75                  | 0               | 0                         | 0                               | 0                                | 0                                 | 0               | 0                        | 0                    | 0                | 0                     | 0                     | 0                      | 0                      | 0                    | 0                   | 0                               | 0                                    | 0             | 994.5     | 0           | 0              | 0             | 0                 | 0                                   | 0          | 0                              | 0                       | 0                          | 0             | 7464                 | 0              | 0                  | 0                             | 0                             | 0                           | 0                           | 0                                     | 749         | 0                          | 0                      | 0                            | 0                           | 0                                        | 0                                       | 0                       | 0                  | 0                     | 0                                 | 0                       | 166              | 0                   | 1171.25                         | 207.667                | 0                        | 0               | 0             | 0                        | 0                 | 0                                             | 0               | 0                      | 0                    | 0\n",
       "Beale at Market                  | 338           | 0                 | 671.75          | 612           | 0                | 0                        | 14758.5         | 294.857                   | 0                               | 0                                | 601                               | 195             | 278.5                    | 0                    | 214.7            | 362.6                 | 247                   | 490.222                | 259                    | 0                    | 1159                | 418.857                         | 452                                  | 622           | 0         | 0           | 682.778        | 373.889       | 1907.5            | 4580                                | 0          | 0                              | 0                       | 0                          | 0             | 0                    | 259            | 419.667            | 358.571                       | 0                             | 0                           | 0                           | 0                                     | 0           | 0                          | 0                      | 0                            | 0                           | 730.333                                  | 696.111                                 | 760                     | 0                  | 0                     | 0                                 | 0                       | 0                | 0                   | 0                               | 0                      | 884.143                  | 391             | 0             | 0                        | 0                 | 188.571                                       | 0               | 0                      | 540                  | 600.75\n",
       "Broadway St at Battery St        | 726           | 702               | 673.353         | 830.333       | 0                | 0                        | 327.125         | 891.286                   | 0                               | 0                                | 828                               | 190             | 219.429                  | 0                    | 450.833          | 1039                  | 587.6                 | 418.778                | 322                    | 0                    | 0                   | 190                             | 456.625                              | 498           | 0         | 0           | 1167           | 559.333       | 663               | 328.5                               | 0          | 0                              | 0                       | 0                          | 0             | 0                    | 583.667        | 776.4              | 554.167                       | 0                             | 0                           | 0                           | 0                                     | 0           | 0                          | 0                      | 0                            | 0                           | 906.2                                    | 890.625                                 | 15413                   | 0                  | 0                     | 0                                 | 0                       | 0                | 0                   | 0                               | 0                      | 951.5                    | 422             | 0             | 0                        | 361.75            | 447.125                                       | 1421.5          | 0                      | 252.5                | 1534\n",
       "California Ave Caltrain Station  | 0             | 0                 | 0               | 0             | 0                | 0                        | 0               | 0                         | 0                               | 0                                | 0                                 | 0               | 0                        | 914.5                | 0                | 0                     | 0                     | 0                      | 0                      | 0                    | 0                   | 0                               | 0                                    | 0             | 0         | 0           | 0              | 0             | 0                 | 0                                   | 0          | 0                              | 0                       | 1508.75                    | 2429.67       | 0                    | 0              | 0                  | 0                             | 0                             | 0                           | 0                           | 0                                     | 0           | 0                          | 0                      | 0                            | 0                           | 0                                        | 0                                       | 0                       | 0                  | 0                     | 0                                 | 0                       | 0                | 0                   | 0                               | 0                      | 0                        | 0               | 0             | 0                        | 0                 | 0                                             | 0               | 802                    | 0                    | 0\n",
       "Castro Street and El Camino Real | 0             | 0                 | 0               | 0             | 0                | 0                        | 0               | 0                         | 0                               | 2220                             | 0                                 | 0               | 0                        | 0                    | 0                | 0                     | 0                     | 0                      | 0                      | 1279                 | 0                   | 0                               | 0                                    | 0             | 0         | 0           | 0              | 0             | 0                 | 0                                   | 0          | 352.862                        | 348                     | 0                          | 0             | 0                    | 0              | 0                  | 0                             | 0                             | 0                           | 0                           | 763                                   | 0           | 0                          | 0                      | 953                          | 1730                        | 0                                        | 0                                       | 0                       | 0                  | 0                     | 0                                 | 0                       | 0                | 0                   | 0                               | 0                      | 0                        | 0               | 0             | 0                        | 0                 | 0                                             | 0               | 0                      | 0                    | 0\n",
       "... (60 rows omitted)"
      ]
     },
     "execution_count": 20,
     "metadata": {},
     "output_type": "execute_result"
    }
   ],
   "source": [
    "trips.pivot(\"Start Station\", \"End Station\", \"Duration\", np.mean)"
   ]
  },
  {
   "cell_type": "markdown",
   "metadata": {},
   "source": [
    "### Joining Tables\n",
    "\n",
    "The `datascience` library allows you to join tables using its `.join()` method. This method performs an _inner_ join, which means that the rows are only those whose values in the join column(s) appear in _both_ tables. \n",
    "\n",
    "The call below joins the `trips` table with the second through fourth columns of the `stations` table, left on `\"Start Station\"` and right on `\"name\"`. This means that the result table will have two new columns, `\"lat\"` and `\"long\"`, indicating the latitude and longitude of the starting station."
   ]
  },
  {
   "cell_type": "code",
   "execution_count": 21,
   "metadata": {
    "scrolled": true
   },
   "outputs": [
    {
     "data": {
      "text/html": [
       "<table border=\"1\" class=\"dataframe\">\n",
       "    <thead>\n",
       "        <tr>\n",
       "            <th>Start Station</th> <th>Trip ID</th> <th>Duration</th> <th>Start Date</th> <th>Start Terminal</th> <th>End Date</th> <th>End Station</th> <th>End Terminal</th> <th>Bike #</th> <th>Subscriber Type</th> <th>Zip Code</th> <th>lat</th> <th>long</th>\n",
       "        </tr>\n",
       "    </thead>\n",
       "    <tbody>\n",
       "        <tr>\n",
       "            <td>2nd at Folsom</td> <td>552253 </td> <td>442     </td> <td>11/20/2014 10:50</td> <td>62            </td> <td>11/20/2014 10:57</td> <td>San Francisco Caltrain 2 (330 Townsend)      </td> <td>69          </td> <td>353   </td> <td>Subscriber     </td> <td>94107   </td> <td>37.7853</td> <td>-122.396</td>\n",
       "        </tr>\n",
       "        <tr>\n",
       "            <td>2nd at Folsom</td> <td>665105 </td> <td>316     </td> <td>3/3/2015 8:46   </td> <td>62            </td> <td>3/3/2015 8:51   </td> <td>Embarcadero at Folsom                        </td> <td>51          </td> <td>480   </td> <td>Subscriber     </td> <td>94158   </td> <td>37.7853</td> <td>-122.396</td>\n",
       "        </tr>\n",
       "        <tr>\n",
       "            <td>2nd at Folsom</td> <td>792824 </td> <td>374     </td> <td>6/3/2015 17:56  </td> <td>62            </td> <td>6/3/2015 18:02  </td> <td>Harry Bridges Plaza (Ferry Building)         </td> <td>50          </td> <td>877   </td> <td>Subscriber     </td> <td>94973   </td> <td>37.7853</td> <td>-122.396</td>\n",
       "        </tr>\n",
       "        <tr>\n",
       "            <td>2nd at Folsom</td> <td>720477 </td> <td>203     </td> <td>4/10/2015 15:55 </td> <td>62            </td> <td>4/10/2015 15:59 </td> <td>Temporary Transbay Terminal (Howard at Beale)</td> <td>55          </td> <td>585   </td> <td>Subscriber     </td> <td>94602   </td> <td>37.7853</td> <td>-122.396</td>\n",
       "        </tr>\n",
       "        <tr>\n",
       "            <td>2nd at Folsom</td> <td>860427 </td> <td>743     </td> <td>7/24/2015 9:13  </td> <td>62            </td> <td>7/24/2015 9:25  </td> <td>Townsend at 7th                              </td> <td>65          </td> <td>563   </td> <td>Subscriber     </td> <td>94105   </td> <td>37.7853</td> <td>-122.396</td>\n",
       "        </tr>\n",
       "        <tr>\n",
       "            <td>2nd at Folsom</td> <td>906231 </td> <td>362     </td> <td>8/26/2015 12:06 </td> <td>62            </td> <td>8/26/2015 12:12 </td> <td>Commercial at Montgomery                     </td> <td>45          </td> <td>620   </td> <td>Subscriber     </td> <td>94107   </td> <td>37.7853</td> <td>-122.396</td>\n",
       "        </tr>\n",
       "        <tr>\n",
       "            <td>2nd at Folsom</td> <td>828638 </td> <td>430     </td> <td>6/30/2015 16:39 </td> <td>62            </td> <td>6/30/2015 16:46 </td> <td>San Francisco Caltrain 2 (330 Townsend)      </td> <td>69          </td> <td>494   </td> <td>Subscriber     </td> <td>94403   </td> <td>37.7853</td> <td>-122.396</td>\n",
       "        </tr>\n",
       "        <tr>\n",
       "            <td>2nd at Folsom</td> <td>714084 </td> <td>452     </td> <td>4/6/2015 17:44  </td> <td>62            </td> <td>4/6/2015 17:52  </td> <td>San Francisco Caltrain 2 (330 Townsend)      </td> <td>69          </td> <td>267   </td> <td>Subscriber     </td> <td>94107   </td> <td>37.7853</td> <td>-122.396</td>\n",
       "        </tr>\n",
       "        <tr>\n",
       "            <td>2nd at Folsom</td> <td>708052 </td> <td>356     </td> <td>4/1/2015 17:15  </td> <td>62            </td> <td>4/1/2015 17:21  </td> <td>San Francisco Caltrain (Townsend at 4th)     </td> <td>70          </td> <td>398   </td> <td>Subscriber     </td> <td>94403   </td> <td>37.7853</td> <td>-122.396</td>\n",
       "        </tr>\n",
       "        <tr>\n",
       "            <td>2nd at Folsom</td> <td>757381 </td> <td>615     </td> <td>5/7/2015 12:11  </td> <td>62            </td> <td>5/7/2015 12:21  </td> <td>Townsend at 7th                              </td> <td>65          </td> <td>432   </td> <td>Subscriber     </td> <td>94558   </td> <td>37.7853</td> <td>-122.396</td>\n",
       "        </tr>\n",
       "    </tbody>\n",
       "</table>\n",
       "<p>... (9774 rows omitted)</p>"
      ],
      "text/plain": [
       "Start Station | Trip ID | Duration | Start Date       | Start Terminal | End Date         | End Station                                   | End Terminal | Bike # | Subscriber Type | Zip Code | lat     | long\n",
       "2nd at Folsom | 552253  | 442      | 11/20/2014 10:50 | 62             | 11/20/2014 10:57 | San Francisco Caltrain 2 (330 Townsend)       | 69           | 353    | Subscriber      | 94107    | 37.7853 | -122.396\n",
       "2nd at Folsom | 665105  | 316      | 3/3/2015 8:46    | 62             | 3/3/2015 8:51    | Embarcadero at Folsom                         | 51           | 480    | Subscriber      | 94158    | 37.7853 | -122.396\n",
       "2nd at Folsom | 792824  | 374      | 6/3/2015 17:56   | 62             | 6/3/2015 18:02   | Harry Bridges Plaza (Ferry Building)          | 50           | 877    | Subscriber      | 94973    | 37.7853 | -122.396\n",
       "2nd at Folsom | 720477  | 203      | 4/10/2015 15:55  | 62             | 4/10/2015 15:59  | Temporary Transbay Terminal (Howard at Beale) | 55           | 585    | Subscriber      | 94602    | 37.7853 | -122.396\n",
       "2nd at Folsom | 860427  | 743      | 7/24/2015 9:13   | 62             | 7/24/2015 9:25   | Townsend at 7th                               | 65           | 563    | Subscriber      | 94105    | 37.7853 | -122.396\n",
       "2nd at Folsom | 906231  | 362      | 8/26/2015 12:06  | 62             | 8/26/2015 12:12  | Commercial at Montgomery                      | 45           | 620    | Subscriber      | 94107    | 37.7853 | -122.396\n",
       "2nd at Folsom | 828638  | 430      | 6/30/2015 16:39  | 62             | 6/30/2015 16:46  | San Francisco Caltrain 2 (330 Townsend)       | 69           | 494    | Subscriber      | 94403    | 37.7853 | -122.396\n",
       "2nd at Folsom | 714084  | 452      | 4/6/2015 17:44   | 62             | 4/6/2015 17:52   | San Francisco Caltrain 2 (330 Townsend)       | 69           | 267    | Subscriber      | 94107    | 37.7853 | -122.396\n",
       "2nd at Folsom | 708052  | 356      | 4/1/2015 17:15   | 62             | 4/1/2015 17:21   | San Francisco Caltrain (Townsend at 4th)      | 70           | 398    | Subscriber      | 94403    | 37.7853 | -122.396\n",
       "2nd at Folsom | 757381  | 615      | 5/7/2015 12:11   | 62             | 5/7/2015 12:21   | Townsend at 7th                               | 65           | 432    | Subscriber      | 94558    | 37.7853 | -122.396\n",
       "... (9774 rows omitted)"
      ]
     },
     "execution_count": 21,
     "metadata": {},
     "output_type": "execute_result"
    }
   ],
   "source": [
    "trips.join(\"Start Station\", stations.select(1, 2, 3), \"name\")"
   ]
  },
  {
   "cell_type": "markdown",
   "metadata": {},
   "source": [
    "To perform other types of joins, the tables would need to be passed to `pandas`."
   ]
  },
  {
   "cell_type": "markdown",
   "metadata": {},
   "source": [
    "### Manipulating Values\n",
    "\n",
    "The most common way to manipulate a data set is to apply a predefined function on each element of a column. To accomplish this in `datascience`, we utilize the `.apply()` method, which takes as its arguments first a function to apply and then the column index or label."
   ]
  },
  {
   "cell_type": "code",
   "execution_count": 22,
   "metadata": {
    "scrolled": false
   },
   "outputs": [
    {
     "data": {
      "text/html": [
       "<table border=\"1\" class=\"dataframe\">\n",
       "    <thead>\n",
       "        <tr>\n",
       "            <th>Trip ID</th> <th>Duration</th> <th>Start Date</th> <th>Start Station</th> <th>Start Terminal</th> <th>End Date</th> <th>End Station</th> <th>End Terminal</th> <th>Bike #</th> <th>Subscriber Type</th> <th>Zip Code</th> <th>Duration^2</th>\n",
       "        </tr>\n",
       "    </thead>\n",
       "    <tbody>\n",
       "        <tr>\n",
       "            <td>608033 </td> <td>280     </td> <td>1/16/2015 20:22 </td> <td>Embarcadero at Bryant   </td> <td>54            </td> <td>1/16/2015 20:27 </td> <td>Steuart at Market                       </td> <td>74          </td> <td>362   </td> <td>Subscriber     </td> <td>94705   </td> <td>78400     </td>\n",
       "        </tr>\n",
       "        <tr>\n",
       "            <td>661342 </td> <td>598     </td> <td>2/27/2015 15:58 </td> <td>South Van Ness at Market</td> <td>66            </td> <td>2/27/2015 16:08 </td> <td>San Francisco Caltrain (Townsend at 4th)</td> <td>70          </td> <td>416   </td> <td>Subscriber     </td> <td>95119   </td> <td>357604    </td>\n",
       "        </tr>\n",
       "        <tr>\n",
       "            <td>571988 </td> <td>639     </td> <td>12/9/2014 17:12 </td> <td>Market at Sansome       </td> <td>77            </td> <td>12/9/2014 17:23 </td> <td>San Francisco Caltrain (Townsend at 4th)</td> <td>70          </td> <td>484   </td> <td>Subscriber     </td> <td>94010   </td> <td>408321    </td>\n",
       "        </tr>\n",
       "        <tr>\n",
       "            <td>875617 </td> <td>725     </td> <td>8/4/2015 17:34  </td> <td>South Van Ness at Market</td> <td>66            </td> <td>8/4/2015 17:46  </td> <td>Beale at Market                         </td> <td>56          </td> <td>569   </td> <td>Subscriber     </td> <td>9611    </td> <td>525625    </td>\n",
       "        </tr>\n",
       "        <tr>\n",
       "            <td>587393 </td> <td>759     </td> <td>12/29/2014 16:10</td> <td>Townsend at 7th         </td> <td>65            </td> <td>12/29/2014 16:23</td> <td>Embarcadero at Bryant                   </td> <td>54          </td> <td>629   </td> <td>Subscriber     </td> <td>94105   </td> <td>576081    </td>\n",
       "        </tr>\n",
       "    </tbody>\n",
       "</table>\n",
       "<p>... (9995 rows omitted)</p>"
      ],
      "text/plain": [
       "<IPython.core.display.HTML object>"
      ]
     },
     "metadata": {},
     "output_type": "display_data"
    }
   ],
   "source": [
    "square = lambda x: x**2\n",
    "\n",
    "sqaured_durations = trips.apply(square, \"Duration\")\n",
    "trips = trips.with_column(\"Duration^2\", sqaured_durations)\n",
    "trips.show(5)"
   ]
  },
  {
   "cell_type": "markdown",
   "metadata": {},
   "source": [
    "### Autograding with OkPy\n",
    "\n",
    "UC Berkeley's Python courses use an autograder called [okpy](https://okpy.org). The package has an easy Jupyter Notebook integration, which is why it is the autograder infrastructure for so many Berkeley courses. Using this autograder requires writing tests, similar to doctests, that will be run in the local environment when you tell the autograder to check the notebook. These can be divided up into multiple sections, and are recorded in Python files."
   ]
  },
  {
   "cell_type": "markdown",
   "metadata": {},
   "source": [
    "#### Writing OkPy Tests\n",
    "\n",
    "Okpy tests are written in \"ok format\"; this means that they are stored in your Python file as the variable `test`, which is a dictionary of information about the specific test. Each Python file is its own test. In the table below, the keys of the dictionary that are needed are described.\n",
    "\n",
    "| Key | Type | Description |\n",
    "|-----|-----|-----|\n",
    "| `\"name\"` | `str` | the name of the question |\n",
    "| `\"points\"` | `int`, `float` | the point value of the question |\n",
    "| `\"suites\"` | `list` | list of dictionaries with the code for the test, with some other attributes |\n",
    "\n",
    "The `\"suites\"` key should have a value that is a list of dictionaries, each of which has the following attributes:\n",
    "\n",
    "| Key | Type | Description |\n",
    "|-----|-----|-----|\n",
    "| `\"cases\"` | `list` | list of dictionaries with the code for each test |\n",
    "| `\"scored\"` | `bool` | whether or not the test is scored |\n",
    "| `\"setup\"` | `str` | setup code to run before the cases |\n",
    "| `\"teardown\"` | `str` | code to run after the cases |\n",
    "| `\"type\"` | `str` | type of test, usually set to `\"doctest\"` |\n",
    "\n",
    "Each test is divided into suites, which are in turn divided into cases. This is useful in CS courses, but a featured which is often not used in Data 8. For most of the tests you write, it is likely that `test[\"suites\"]` and `test[\"suites\"][0][\"cases\"]` will have length 1.\n",
    "\n",
    "As an example of an ok test file, consider the one below.\n",
    "\n",
    "```python\n",
    "test = {\n",
    "    \"name\": \"Question 1\",\n",
    "    \"points\": 1,\n",
    "    \"suites\": [\n",
    "        {\n",
    "            \"cases\": [\n",
    "                {\n",
    "                    \"code\": r\"\"\"\n",
    "                    >>> the_answer\n",
    "                    42\n",
    "                    >>> np.isclose(42, the_answer)\n",
    "                    True\n",
    "                    \"\"\",\n",
    "                    \"hidden\": False,\n",
    "                    \"locked\": False\n",
    "                }\n",
    "            ],\n",
    "            \"scored\": True,\n",
    "            \"setup\": \"\",\n",
    "            \"teardown\": \"\",\n",
    "            \"type\": doctest\n",
    "        }\n",
    "    ]\n",
    "}\n",
    "```\n",
    "\n",
    "As you can see, we check in this test that `the_answer` is an integer with value 42. If we hadn't had numpy imported in the notebook environment, then we would've needed to change the `\"setup\"` value to include that:\n",
    "\n",
    "```python\n",
    "\"setup\": r\"\"\"\n",
    ">>> import numpy as np\n",
    "\"\"\"\n",
    "```\n",
    "\n",
    "Also note that the strings with code in them are all `r` strings. This is important for the interpreter.\n",
    "\n",
    "**Some things to keep in mind when writing tests:**\n",
    "* Rows and elements often get shuffled around due to student explorations. For this reason, it is often good to avoid indexing by numbers unless you are _100% certain_ that this won't happen.\n",
    "* Rounding errors occur, so use functions like `np.isclose` instead of tests for direct equality.\n",
    "* Write exhaustive tests but don't try to verify that each cell matches. In most cases, either every answer will be off or none of them well; figure out how to exploit this in your tests and writing them will be a lot easier."
   ]
  },
  {
   "cell_type": "markdown",
   "metadata": {},
   "source": [
    "#### Usage in Notebooks\n",
    "\n",
    "To initialize the autograder, you first need to import from the client package the `Notebook` object. The `client` package is set up when you install okpy on your JupyterHub. To initialize the autograder, create an instance of the `Notebook` class; by convention, we save this instance as `ok`. The `Notebook` initializer requires 1 argument, the relative path to your [ok configuration file](https://okpy.github.io/documentation/client.html)."
   ]
  },
  {
   "cell_type": "code",
   "execution_count": 23,
   "metadata": {
    "scrolled": true
   },
   "outputs": [
    {
     "name": "stdout",
     "output_type": "stream",
     "text": [
      "=====================================================================\n",
      "Assignment: datascience Demo\n",
      "OK, version v1.15.0\n",
      "=====================================================================\n",
      "\n"
     ]
    }
   ],
   "source": [
    "from client.api.notebook import Notebook\n",
    "ok = Notebook(\"demo.ok\")"
   ]
  },
  {
   "cell_type": "markdown",
   "metadata": {},
   "source": [
    "If you are using the okpy website to collect submissions, then you would also have put the following line in the cell above:\n",
    "\n",
    "```python\n",
    "_ = ok.auth(inline=True)\n",
    "```\n",
    "\n",
    "This would direct your students to the okpy site to log in and give them an authentication key for the notebook.\n",
    "\n",
    "To run autograder tests, we use the `ok.grade()` function; it takes a single argument, the identifier of the tests you're trying to run. As an example, assign `the_answer` below to the value `42`."
   ]
  },
  {
   "cell_type": "code",
   "execution_count": 24,
   "metadata": {
    "scrolled": true
   },
   "outputs": [],
   "source": [
    "the_answer = ..."
   ]
  },
  {
   "cell_type": "code",
   "execution_count": 25,
   "metadata": {
    "scrolled": true
   },
   "outputs": [
    {
     "name": "stdout",
     "output_type": "stream",
     "text": [
      "~~~~~~~~~~~~~~~~~~~~~~~~~~~~~~~~~~~~~~~~~~~~~~~~~~~~~~~~~~~~~~~~~~~~~\n",
      "Running tests\n",
      "\n",
      "---------------------------------------------------------------------\n",
      " > Suite 1 > Case 1\n",
      "\n",
      ">>> the_answer\n",
      "Ellipsis\n",
      "\n",
      "# Error: expected\n",
      "#     42\n",
      "# but got\n",
      "#     Ellipsis\n",
      "\n",
      "Run only this test case with \"python3 ok -q q1 --suite 1 --case 1\"\n",
      "---------------------------------------------------------------------\n",
      "Test summary\n",
      "    Passed: 0\n",
      "    Failed: 1\n",
      "[k..........] 0.0% passed\n",
      "\n"
     ]
    }
   ],
   "source": [
    "_ = ok.grade(\"q1\")"
   ]
  },
  {
   "cell_type": "markdown",
   "metadata": {},
   "source": [
    "Because I have stored the test cases in `tests/q1.py`, the autograder will go there and run the tests to make sure that you pass. (The location of the tests is set up in the ok config file.)\n",
    "\n",
    "To make life easier for the students, we often include the cell below which will allow them to run all of the ok tests at once to verify that all of their code is working.\n",
    "\n",
    "```python\n",
    "# For your convenience, you can run this cell to run all the tests at once!\n",
    "import os\n",
    "_ = [ok.grade(q[:-3]) for q in os.listdir(\"tests\") if q.startswith('q')]\n",
    "```"
   ]
  },
  {
   "cell_type": "markdown",
   "metadata": {},
   "source": [
    "To submit work to the okpy site, have students run the following:\n",
    "\n",
    "```python\n",
    "_ = ok.submit()\n",
    "```"
   ]
  },
  {
   "cell_type": "markdown",
   "metadata": {},
   "source": [
    "#### An Example\n",
    "\n",
    "If we wanted to use okpy in this notebook, we could test that the squared durations were stored correctly. This test is stored as `tests/q2.py`, so we could check this using the code below."
   ]
  },
  {
   "cell_type": "code",
   "execution_count": 26,
   "metadata": {
    "scrolled": true
   },
   "outputs": [
    {
     "name": "stdout",
     "output_type": "stream",
     "text": [
      "~~~~~~~~~~~~~~~~~~~~~~~~~~~~~~~~~~~~~~~~~~~~~~~~~~~~~~~~~~~~~~~~~~~~~\n",
      "Running tests\n",
      "\n",
      "---------------------------------------------------------------------\n",
      "Test summary\n",
      "    Passed: 1\n",
      "    Failed: 0\n",
      "[ooooooooook] 100.0% passed\n",
      "\n"
     ]
    }
   ],
   "source": [
    "_ = ok.grade(\"q2\")"
   ]
  },
  {
   "cell_type": "markdown",
   "metadata": {},
   "source": [
    "### Exporting Data\n",
    "\n",
    "If you make some modifications to the data set or do some data cleaning, you may want to export your data from Python to make it easier to pick up later or to reproduce. For this reason, there is a `datascience` function that allow you to export a Table object to a text file, which you can then load back into Python later. To export as a CSV file, you pass the file name (or file location, if it's going to another folder) to the `.to_csv()` method."
   ]
  },
  {
   "cell_type": "code",
   "execution_count": 27,
   "metadata": {
    "scrolled": true
   },
   "outputs": [],
   "source": [
    "trips.to_csv('export/trips-export.csv')"
   ]
  },
  {
   "cell_type": "markdown",
   "metadata": {},
   "source": [
    "If you want to save as another file format (e.g. TSV, JSON), you will have to export through `pandas` by setting the `sep` argument of the `.to_csv()` method or using a different export function (e.g. `pd.to_json()`). This is easily accomplished if you have a Table by transferring that table to `pandas` first."
   ]
  },
  {
   "cell_type": "code",
   "execution_count": null,
   "metadata": {
    "scrolled": true
   },
   "outputs": [],
   "source": [
    "# transfer to pandas, from above\n",
    "trips_df = trips.to_df()\n",
    "\n",
    "# export as tsv\n",
    "trips_df.to_csv('data/trips.tsv', index=False, sep='\\t')"
   ]
  },
  {
   "cell_type": "markdown",
   "metadata": {},
   "source": [
    "### Conclusion\n",
    "\n",
    "This notebook should have given you a good introduction to the `Table` class of `datascience`. This demo is not an exhaustive one, and there are _many_ other functionalities of the class that were not covered. To see these and the other functions in the library (including plotting and mapping functionality), see the [`datascience` documentation](http://data8.org/datascience)."
   ]
  }
 ],
 "metadata": {
  "@webio": {
   "lastCommId": null,
   "lastKernelId": null
  },
  "kernelspec": {
   "display_name": "Python 3",
   "language": "python",
   "name": "python3"
  },
  "language_info": {
   "codemirror_mode": {
    "name": "ipython",
    "version": 3
   },
   "file_extension": ".py",
   "mimetype": "text/x-python",
   "name": "python",
   "nbconvert_exporter": "python",
   "pygments_lexer": "ipython3",
   "version": "3.8.1"
  },
  "varInspector": {
   "cols": {
    "lenName": 16,
    "lenType": 16,
    "lenVar": 40
   },
   "kernels_config": {
    "python": {
     "delete_cmd_postfix": "",
     "delete_cmd_prefix": "del ",
     "library": "var_list.py",
     "varRefreshCmd": "print(var_dic_list())"
    },
    "r": {
     "delete_cmd_postfix": ") ",
     "delete_cmd_prefix": "rm(",
     "library": "var_list.r",
     "varRefreshCmd": "cat(var_dic_list()) "
    }
   },
   "types_to_exclude": [
    "module",
    "function",
    "builtin_function_or_method",
    "instance",
    "_Feature"
   ],
   "window_display": false
  }
 },
 "nbformat": 4,
 "nbformat_minor": 2
}
